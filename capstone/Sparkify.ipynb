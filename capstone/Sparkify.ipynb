{
 "cells": [
  {
   "cell_type": "markdown",
   "metadata": {},
   "source": [
    "# Sparkify Project Workspace\n",
    "This workspace contains a tiny subset (128MB) of the full dataset available (12GB). Feel free to use this workspace to build your project, or to explore a smaller subset with Spark before deploying your cluster on the cloud. Instructions for setting up your Spark cluster is included in the last lesson of the Extracurricular Spark Course content.\n",
    "\n",
    "You can follow the steps below to guide your data analysis and model building portion of this project."
   ]
  },
  {
   "cell_type": "markdown",
   "metadata": {},
   "source": [
    "# Spark Project: Sparkify\n",
    "\n",
    "The aim of the project is to build a machine pipeline to predict churn rate. Predicting churn rates is a challenging and common problem that data scientists and analysts regularly encounter in any customer-facing business."
   ]
  },
  {
   "cell_type": "code",
   "execution_count": 1,
   "metadata": {},
   "outputs": [],
   "source": [
    "# import libraries\n",
    "from pyspark.sql import SparkSession\n",
    "from pyspark.sql.types import IntegerType, StringType\n",
    "from pyspark.sql.window import Window\n",
    "\n",
    "from pyspark.ml import Pipeline\n",
    "from pyspark.ml.feature import MinMaxScaler, VectorAssembler\n",
    "from pyspark.ml.classification import LogisticRegression, RandomForestClassifier, GBTClassifier\n",
    "from pyspark.ml.evaluation import BinaryClassificationEvaluator, MulticlassClassificationEvaluator\n",
    "from pyspark.ml.tuning import CrossValidator, ParamGridBuilder\n",
    "from pyspark.ml.feature import StandardScaler\n",
    "\n",
    "import pyspark.sql.functions as F\n",
    "import numpy as np\n",
    "import pandas as pd\n",
    "import matplotlib.pyplot as plt\n",
    "import seaborn as sns\n",
    "\n",
    "%matplotlib inline"
   ]
  },
  {
   "cell_type": "code",
   "execution_count": 2,
   "metadata": {},
   "outputs": [],
   "source": [
    "# create a Spark session\n",
    "spark = SparkSession.builder.appName(\"Sparkify\").getOrCreate()"
   ]
  },
  {
   "cell_type": "markdown",
   "metadata": {},
   "source": [
    "# Load and Clean Dataset\n",
    "In this workspace, the mini-dataset file is `mini_sparkify_event_data.json`. Load and clean the dataset, checking for invalid or missing data - for example, records without userids or sessionids. "
   ]
  },
  {
   "cell_type": "code",
   "execution_count": 3,
   "metadata": {},
   "outputs": [
    {
     "data": {
      "text/plain": [
       "Row(artist='Martin Orford', auth='Logged In', firstName='Joseph', gender='M', itemInSession=20, lastName='Morales', length=597.55057, level='free', location='Corpus Christi, TX', method='PUT', page='NextSong', registration=1532063507000, sessionId=292, song='Grand Designs', status=200, ts=1538352011000, userAgent='\"Mozilla/5.0 (Macintosh; Intel Mac OS X 10_9_4) AppleWebKit/537.36 (KHTML, like Gecko) Chrome/36.0.1985.125 Safari/537.36\"', userId='293')"
      ]
     },
     "execution_count": 3,
     "metadata": {},
     "output_type": "execute_result"
    }
   ],
   "source": [
    "#event_data = \"./mini_sparkify_event_data.json\"\n",
    "event_data = \"./medium-sparkify-event-data.json\"\n",
    "df = spark.read.json(event_data)\n",
    "df.head()"
   ]
  },
  {
   "cell_type": "markdown",
   "metadata": {},
   "source": [
    "# Exploratory Data Analysis\n",
    "When you're working with the full dataset, perform EDA by loading a small subset of the data and doing basic manipulations within Spark. In this workspace, you are already provided a small subset of data you can explore.\n",
    "\n",
    "### Define Churn\n",
    "\n",
    "Once you've done some preliminary analysis, create a column `Churn` to use as the label for your model. I suggest using the `Cancellation Confirmation` events to define your churn, which happen for both paid and free users. As a bonus task, you can also look into the `Downgrade` events.\n",
    "\n",
    "### Explore Data\n",
    "Once you've defined churn, perform some exploratory data analysis to observe the behavior for users who stayed vs users who churned. You can start by exploring aggregates on these two groups of users, observing how much of a specific action they experienced per a certain time unit or number of songs played."
   ]
  },
  {
   "cell_type": "markdown",
   "metadata": {},
   "source": [
    "### schema and statistics on the data"
   ]
  },
  {
   "cell_type": "code",
   "execution_count": 4,
   "metadata": {},
   "outputs": [
    {
     "name": "stdout",
     "output_type": "stream",
     "text": [
      "root\n",
      " |-- artist: string (nullable = true)\n",
      " |-- auth: string (nullable = true)\n",
      " |-- firstName: string (nullable = true)\n",
      " |-- gender: string (nullable = true)\n",
      " |-- itemInSession: long (nullable = true)\n",
      " |-- lastName: string (nullable = true)\n",
      " |-- length: double (nullable = true)\n",
      " |-- level: string (nullable = true)\n",
      " |-- location: string (nullable = true)\n",
      " |-- method: string (nullable = true)\n",
      " |-- page: string (nullable = true)\n",
      " |-- registration: long (nullable = true)\n",
      " |-- sessionId: long (nullable = true)\n",
      " |-- song: string (nullable = true)\n",
      " |-- status: long (nullable = true)\n",
      " |-- ts: long (nullable = true)\n",
      " |-- userAgent: string (nullable = true)\n",
      " |-- userId: string (nullable = true)\n",
      "\n"
     ]
    }
   ],
   "source": [
    "# print the schema to understand the dataset\n",
    "df.printSchema()"
   ]
  },
  {
   "cell_type": "code",
   "execution_count": 5,
   "metadata": {},
   "outputs": [
    {
     "name": "stdout",
     "output_type": "stream",
     "text": [
      "+-------+-----------------+----------+---------+------+------------------+--------+-----------------+------+----------------+------+-------+--------------------+------------------+--------------------+------------------+--------------------+--------------------+------------------+\n",
      "|summary|           artist|      auth|firstName|gender|     itemInSession|lastName|           length| level|        location|method|   page|        registration|         sessionId|                song|            status|                  ts|           userAgent|            userId|\n",
      "+-------+-----------------+----------+---------+------+------------------+--------+-----------------+------+----------------+------+-------+--------------------+------------------+--------------------+------------------+--------------------+--------------------+------------------+\n",
      "|  count|           432877|    543705|   528005|528005|            543705|  528005|           432877|543705|          528005|543705| 543705|              528005|            543705|              432877|            543705|              543705|              528005|            543705|\n",
      "|   mean|527.5289537712895|      null|     null|  null|107.30629109535502|    null|248.6645927800741|  null|            null|  null|   null|1.535523414863953...|2040.8143533717732|            Infinity|210.01829116892432|1.540964541209743...|                null| 60268.42669103512|\n",
      "| stddev|966.1072451772757|      null|     null|  null|116.72350849188166|    null|98.41266955052022|  null|            null|  null|   null|3.0787254929962535E9|1434.3389310782666|                 NaN|31.471919021567206|1.4820571449120703E9|                null|109898.82324176558|\n",
      "|    min|              !!!| Cancelled|  Aaliyah|     F|                 0|  Abbott|          0.78322|  free|       Akron, OH|   GET|  About|       1509854193000|                 1|\u001c",
      "ÃÂg ÃÂtti Gr...|               200|       1538352011000|\"Mozilla/5.0 (Mac...|                  |\n",
      "|    max|ÃÂlafur Arnalds|Logged Out|   Zyonna|     M|              1005|  Wright|       3024.66567|  paid|York-Hanover, PA|   PUT|Upgrade|       1543073874000|              4808|ÃÂ¾etta Gerist Ã...|               404|       1543622466000|Mozilla/5.0 (comp...|                99|\n",
      "+-------+-----------------+----------+---------+------+------------------+--------+-----------------+------+----------------+------+-------+--------------------+------------------+--------------------+------------------+--------------------+--------------------+------------------+\n",
      "\n"
     ]
    }
   ],
   "source": [
    "df.describe().show()\n",
    "#it appears there are null values in the dataset"
   ]
  },
  {
   "cell_type": "code",
   "execution_count": 6,
   "metadata": {},
   "outputs": [
    {
     "name": "stdout",
     "output_type": "stream",
     "text": [
      "artist has 110828, 20.38%% missing values, and 21248 distinct values\n",
      "auth has 0, 0.00% missing values, and 4 distinct values\n",
      "firstName has 15700, 2.89%% missing values, and 346 distinct values\n",
      "gender has 15700, 2.89%% missing values, and 3 distinct values\n",
      "itemInSession has 0, 0.00% missing values, and 1006 distinct values\n",
      "lastName has 15700, 2.89%% missing values, and 276 distinct values\n",
      "length has 110828, 20.38%% missing values, and 16680 distinct values\n",
      "level has 0, 0.00% missing values, and 2 distinct values\n",
      "location has 15700, 2.89%% missing values, and 193 distinct values\n",
      "method has 0, 0.00% missing values, and 2 distinct values\n",
      "page has 0, 0.00% missing values, and 22 distinct values\n",
      "registration has 15700, 2.89%% missing values, and 449 distinct values\n",
      "sessionId has 0, 0.00% missing values, and 4590 distinct values\n",
      "song has 110828, 20.38%% missing values, and 80293 distinct values\n",
      "status has 0, 0.00% missing values, and 3 distinct values\n",
      "ts has 0, 0.00% missing values, and 513108 distinct values\n",
      "userAgent has 15700, 2.89%% missing values, and 72 distinct values\n",
      "userId has 15700, 2.89%% missing values, and 449 distinct values\n"
     ]
    }
   ],
   "source": [
    "# which features has missing values\n",
    "def print_missing_value(df, col):\n",
    "    \"\"\"\n",
    "    print the percentage of missing values in a column, and number of unique values\n",
    "    Args:\n",
    "        df  - dataframe\n",
    "        col - column name\n",
    "    Returns:\n",
    "        None\n",
    "    \"\"\"\n",
    "    count = df.filter((F.isnan(df[col])) | (df[col].isNull()) | (df[col] == '')).count()\n",
    "    if count > 0:\n",
    "       print (f'{col} has {count}, {count/df.count():.2%}% missing values, and {df.select(col).distinct().count()} distinct values')\n",
    "    else:\n",
    "        print (f'{col} has 0, 0.00% missing values, and {df.select(col).distinct().count()} distinct values')\n",
    "        \n",
    "for col in df.columns:\n",
    "    # check if column contains NaN, '' or Null value\n",
    "    print_missing_value(df, col)"
   ]
  },
  {
   "cell_type": "code",
   "execution_count": 7,
   "metadata": {},
   "outputs": [
    {
     "name": "stdout",
     "output_type": "stream",
     "text": [
      "feature auth has the following distinct values: [Row(auth='Logged Out'), Row(auth='Cancelled'), Row(auth='Guest'), Row(auth='Logged In')]\n",
      "feature gender has the following distinct values: [Row(gender='F'), Row(gender=None), Row(gender='M')]\n",
      "feature level has the following distinct values: [Row(level='free'), Row(level='paid')]\n",
      "feature method has the following distinct values: [Row(method='PUT'), Row(method='GET')]\n",
      "feature page has the following distinct values: [Row(page='Cancel'), Row(page='Submit Downgrade'), Row(page='Thumbs Down'), Row(page='Home'), Row(page='Downgrade'), Row(page='Roll Advert'), Row(page='Logout'), Row(page='Save Settings'), Row(page='Cancellation Confirmation'), Row(page='About'), Row(page='Submit Registration'), Row(page='Settings'), Row(page='Login'), Row(page='Register'), Row(page='Add to Playlist'), Row(page='Add Friend'), Row(page='NextSong'), Row(page='Thumbs Up'), Row(page='Help'), Row(page='Upgrade'), Row(page='Error'), Row(page='Submit Upgrade')]\n",
      "feature status has the following distinct values: [Row(status=307), Row(status=404), Row(status=200)]\n"
     ]
    }
   ],
   "source": [
    "#sample distinct value for selected columns\n",
    "for col in ['auth', 'gender', 'level', 'method', 'page', 'status']:\n",
    "    print (f'feature {col} has the following distinct values: {df.select(df[col]).distinct().collect()}')\n"
   ]
  },
  {
   "cell_type": "code",
   "execution_count": 8,
   "metadata": {},
   "outputs": [
    {
     "name": "stdout",
     "output_type": "stream",
     "text": [
      "number of unique page value: 22, vs number of unique page,method combination: 22 \n"
     ]
    },
    {
     "data": {
      "text/plain": [
       "[Row(method='PUT', page='Cancel'),\n",
       " Row(method='PUT', page='Logout'),\n",
       " Row(method='PUT', page='Add to Playlist'),\n",
       " Row(method='GET', page='Downgrade'),\n",
       " Row(method='PUT', page='Submit Registration'),\n",
       " Row(method='PUT', page='Submit Upgrade'),\n",
       " Row(method='PUT', page='Thumbs Up'),\n",
       " Row(method='GET', page='Home'),\n",
       " Row(method='PUT', page='Add Friend'),\n",
       " Row(method='GET', page='Error'),\n",
       " Row(method='GET', page='Upgrade'),\n",
       " Row(method='PUT', page='Thumbs Down'),\n",
       " Row(method='PUT', page='Save Settings'),\n",
       " Row(method='GET', page='Help'),\n",
       " Row(method='GET', page='Settings'),\n",
       " Row(method='PUT', page='Submit Downgrade'),\n",
       " Row(method='GET', page='Cancellation Confirmation'),\n",
       " Row(method='GET', page='Register'),\n",
       " Row(method='PUT', page='Login'),\n",
       " Row(method='GET', page='Roll Advert'),\n",
       " Row(method='GET', page='About'),\n",
       " Row(method='PUT', page='NextSong')]"
      ]
     },
     "execution_count": 8,
     "metadata": {},
     "output_type": "execute_result"
    }
   ],
   "source": [
    "#method column seems to be redundant, each page can be retrieve either by get or put, not both. so\n",
    "#method column depends on the page column\n",
    "print (f\"number of unique page value: {df[['page']].distinct().count()}, vs number of unique page,method combination: {df[['method', 'page']].distinct().count()} \")\n",
    "df[['method', 'page']].distinct().collect()"
   ]
  },
  {
   "cell_type": "code",
   "execution_count": 9,
   "metadata": {},
   "outputs": [],
   "source": [
    "#handle missing values, if any of userid is missing  drop the record.\n",
    "def handle_missing_data(df):\n",
    "    \"\"\"\n",
    "    handle missing values, if any of the userid is missing, drop the record\n",
    "    Args:\n",
    "        df - dataframe to be processed\n",
    "    Returns:\n",
    "        Data Frame with missing values in UserId removed\n",
    "    \"\"\"\n",
    "    df = df.dropna(subset=['userId', 'sessionId'], how='any')\n",
    "    return df.where(df['userId'] != \"\")\n",
    "\n",
    "df = handle_missing_data(df)"
   ]
  },
  {
   "cell_type": "code",
   "execution_count": 10,
   "metadata": {},
   "outputs": [
    {
     "name": "stdout",
     "output_type": "stream",
     "text": [
      "number of unique userid: 448\n"
     ]
    }
   ],
   "source": [
    "#number of unique users\n",
    "print (f\"number of unique userid: {df[['userId']].distinct().count()}\")"
   ]
  },
  {
   "cell_type": "code",
   "execution_count": 11,
   "metadata": {},
   "outputs": [
    {
     "data": {
      "text/plain": [
       "<matplotlib.axes._subplots.AxesSubplot at 0x1e38e7550c8>"
      ]
     },
     "execution_count": 11,
     "metadata": {},
     "output_type": "execute_result"
    },
    {
     "data": {
      "text/plain": [
       "<Figure size 576x432 with 0 Axes>"
      ]
     },
     "metadata": {},
     "output_type": "display_data"
    },
    {
     "data": {
      "image/png": "[encoded data removed]",
      "text/plain": [
       "<Figure size 432x288 with 1 Axes>"
      ]
     },
     "metadata": {
      "needs_background": "light"
     },
     "output_type": "display_data"
    }
   ],
   "source": [
    "#check to see the distribution of user by gender\n",
    "plt.figure(figsize=(8,6))\n",
    "gender_by_level = df[['userId', 'gender']].distinct().groupby('gender').count().toPandas()\n",
    "gender_by_level.set_index('gender').plot(kind='bar')"
   ]
  },
  {
   "cell_type": "code",
   "execution_count": 12,
   "metadata": {},
   "outputs": [
    {
     "name": "stdout",
     "output_type": "stream",
     "text": [
      "number of rows in the data set: 528005\n"
     ]
    }
   ],
   "source": [
    "# number of records in dataframe, this is sample with missing value in userid, sessionid removed\n",
    "print (f'number of rows in the data set: {df.count()}')"
   ]
  },
  {
   "cell_type": "markdown",
   "metadata": {},
   "source": [
    "## define churn column\n",
    "\n",
    "churn is defined as when page == 'Cancellation Confirmation'"
   ]
  },
  {
   "cell_type": "code",
   "execution_count": 13,
   "metadata": {},
   "outputs": [
    {
     "name": "stdout",
     "output_type": "stream",
     "text": [
      "+-------------------+\n",
      "|         churn rate|\n",
      "+-------------------+\n",
      "|0.22098214285714285|\n",
      "+-------------------+\n",
      "\n"
     ]
    }
   ],
   "source": [
    "bool_to_int = F.udf(lambda x: 1 if x else 0, IntegerType()) #convert boolean to int\n",
    "def add_churn_column(df):\n",
    "    \"\"\"\n",
    "    add a churn column to the dataframe, churn column is 1 is any of the page for a user is Cancellation Confirmation\n",
    "    Args:\n",
    "        df - dataframe\n",
    "    Returns\n",
    "        new dataframe with churn column added\n",
    "    \"\"\"\n",
    "    userlist = df.where(df.page == 'Cancellation Confirmation').select(F.col('userId')).rdd.flatMap(lambda x: x).collect()\n",
    "    return df.withColumn('churn', bool_to_int(df.userId.isin(userlist)))\n",
    "\n",
    "df_churned = add_churn_column(df)\n",
    "df_churned[['userId', 'churn']].groupby('userId').max().select(F.avg('max(churn)').alias('churn rate')).show()"
   ]
  },
  {
   "cell_type": "markdown",
   "metadata": {},
   "source": [
    "### gender distribution by churn"
   ]
  },
  {
   "cell_type": "code",
   "execution_count": 14,
   "metadata": {},
   "outputs": [
    {
     "data": {
      "image/png": "[encoded data removed]",
      "text/plain": [
       "<Figure size 432x288 with 1 Axes>"
      ]
     },
     "metadata": {
      "needs_background": "light"
     },
     "output_type": "display_data"
    }
   ],
   "source": [
    "churn_by_gender = df_churned[['userId', 'gender', 'churn']].groupby(['userId', 'gender']). \\\n",
    "                     max().groupby(['gender', 'max(churn)']).count().toPandas()\n",
    "churn_by_gender.rename(columns={'max(churn)' : 'churn'}).pivot(index='gender', columns='churn', values = 'count'). \\\n",
    "                       plot(kind='bar', stacked = True);"
   ]
  },
  {
   "cell_type": "markdown",
   "metadata": {},
   "source": [
    "### level distribution by churn"
   ]
  },
  {
   "cell_type": "code",
   "execution_count": 15,
   "metadata": {},
   "outputs": [
    {
     "data": {
      "image/png": "[encoded data removed]",
      "text/plain": [
       "<Figure size 432x288 with 1 Axes>"
      ]
     },
     "metadata": {
      "needs_background": "light"
     },
     "output_type": "display_data"
    }
   ],
   "source": [
    "churn_by_level = df_churned[['userId', 'level', 'churn']].groupby(['userId', 'level']). \\\n",
    "                     max().groupby(['level', 'max(churn)']).count().toPandas()\n",
    "churn_by_level.rename(columns={'max(churn)' : 'churn'}).pivot(index='level', columns='churn', values = 'count').plot(kind='bar', stacked = True);"
   ]
  },
  {
   "cell_type": "markdown",
   "metadata": {},
   "source": [
    "### page distribution by churn"
   ]
  },
  {
   "cell_type": "code",
   "execution_count": 16,
   "metadata": {},
   "outputs": [
    {
     "data": {
      "text/plain": [
       "<matplotlib.axes._subplots.AxesSubplot at 0x1e38e9b0588>"
      ]
     },
     "execution_count": 16,
     "metadata": {},
     "output_type": "execute_result"
    },
    {
     "data": {
      "image/png": "[encoded data removed]",
      "text/plain": [
       "<Figure size 1152x720 with 1 Axes>"
      ]
     },
     "metadata": {
      "needs_background": "light"
     },
     "output_type": "display_data"
    }
   ],
   "source": [
    "plt.rcParams[\"figure.figsize\"] = (16,10)\n",
    "churn_by_page = df_churned[['userId', 'page', 'churn']].groupby(['userId', 'page']). \\\n",
    "                     agg(F.max('churn').alias('churn')).groupby(['churn', 'page']).count().toPandas()\n",
    "churn_pivot = churn_by_page.pivot(index='page', columns='churn', values='count').fillna(0.0)\n",
    "churn_pivot.plot(kind='bar', stacked=True)\n",
    "#churn_by_page.pivot(index='page', columns='sum(churn)', values='count').plot(kind='bar', stacked=True)"
   ]
  },
  {
   "cell_type": "code",
   "execution_count": 17,
   "metadata": {},
   "outputs": [
    {
     "data": {
      "text/plain": [
       "<matplotlib.axes._subplots.AxesSubplot at 0x1e38ea86d88>"
      ]
     },
     "execution_count": 17,
     "metadata": {},
     "output_type": "execute_result"
    },
    {
     "data": {
      "image/png": "[encoded data removed]",
      "text/plain": [
       "<Figure size 1152x720 with 1 Axes>"
      ]
     },
     "metadata": {
      "needs_background": "light"
     },
     "output_type": "display_data"
    }
   ],
   "source": [
    "churn_pivot.div(churn_pivot.sum(1).astype(float), axis=0).plot(kind='bar', stacked=True)"
   ]
  },
  {
   "cell_type": "markdown",
   "metadata": {},
   "source": [
    "### add is male and is paid column"
   ]
  },
  {
   "cell_type": "code",
   "execution_count": 18,
   "metadata": {},
   "outputs": [],
   "source": [
    "#convert gender and level to 1 or 0\n",
    "is_male = F.udf(lambda x: 1 if x == 'M' else 0, IntegerType())\n",
    "is_paid = F.udf(lambda x: 1 if x == 'paid' else 0, IntegerType())\n",
    "\n",
    "df_churned = df_churned.withColumn(\"male\", is_male(\"gender\"))\n",
    "df_churned = df_churned.withColumn(\"paid\", is_paid(\"level\"))"
   ]
  },
  {
   "cell_type": "markdown",
   "metadata": {},
   "source": [
    "# Feature Engineering\n",
    "Once you've familiarized yourself with the data, build out the features you find promising to train your model on. To work with the full dataset, you can follow the following steps.\n",
    "- Write a script to extract the necessary features from the smaller subset of data\n",
    "- Ensure that your script is scalable, using the best practices discussed in Lesson 3\n",
    "- Try your script on the full data set, debugging your script if necessary\n",
    "\n",
    "If you are working in the classroom workspace, you can just extract features based on the small subset of data contained here. Be sure to transfer over this work to the larger dataset when you work on your Spark cluster."
   ]
  },
  {
   "cell_type": "code",
   "execution_count": 19,
   "metadata": {},
   "outputs": [],
   "source": [
    "entire_window = Window.partitionBy('userId').orderBy(F.desc('ts'))    \n",
    "df_churned = df_churned.withColumn(\"last_is_paid\", F.first(\"paid\").over(entire_window))"
   ]
  },
  {
   "cell_type": "code",
   "execution_count": 20,
   "metadata": {},
   "outputs": [],
   "source": [
    "#calculate membership lifetime, it is calculated as max timestamp - registration time, in terms of days\n",
    "df_churned = df_churned.withColumn('lifetime', (F.col('ts') - F.col('registration'))/(60*60*24*1000))"
   ]
  },
  {
   "cell_type": "code",
   "execution_count": 21,
   "metadata": {},
   "outputs": [
    {
     "data": {
      "text/plain": [
       "Row(userId='100010', churn=1, male=0, last_is_paid=0, upgrade=0, downgrade=0, thumbsup=4, thumbsdown=3, error=0, help=0, friend=0, playlist=1, lifetime=14.328449074074074, songlength=269.48907020833326, avgItemInSession=33.839416058394164, artist=94, session=2, agents=1, location=1, songcount=96)"
      ]
     },
     "execution_count": 21,
     "metadata": {},
     "output_type": "execute_result"
    }
   ],
   "source": [
    "df_features = df_churned.groupby(\"userId\").agg(\n",
    "    F.max(\"churn\").alias(\"churn\"),\n",
    "    F.max(\"male\").alias(\"male\"),\n",
    "    F.max(\"last_is_paid\").alias(\"last_is_paid\"),\n",
    "    F.max(F.when(F.col(\"page\") == \"Submit Upgrade\", 1).otherwise(0)).alias(\"upgrade\"),\n",
    "    F.max(F.when(F.col(\"page\") == \"Submit Downgrade\", 1).otherwise(0)).alias(\"downgrade\"),\n",
    "    F.sum(F.when(F.col(\"page\") == \"Thumbs Up\", 1).otherwise(0)).alias(\"thumbsup\"),\n",
    "    F.sum(F.when(F.col(\"page\") == \"Thumbs Down\", 1).otherwise(0)).alias(\"thumbsdown\"),\n",
    "    F.sum(F.when(F.col(\"page\") == \"Error\", 1).otherwise(0)).alias(\"error\"),\n",
    "    F.sum(F.when(F.col(\"page\") == \"Help\", 1).otherwise(0)).alias(\"help\"),\n",
    "    F.sum(F.when(F.col(\"page\")==\"Add Firend\", 1).otherwise(0)).alias(\"friend\"),\n",
    "    F.sum(F.when(F.col(\"page\")==\"Add to Playlist\", 1).otherwise(0)).alias(\"playlist\"),\n",
    "    F.max(\"lifetime\").alias(\"lifetime\"),\n",
    "    F.avg(\"length\").alias(\"songlength\"),\n",
    "    F.avg(\"itemInSession\").alias(\"avgItemInSession\"),\n",
    "    F.countDistinct(\"Artist\").alias(\"artist\"),\n",
    "    F.countDistinct(\"sessionId\").alias(\"session\"),\n",
    "    F.countDistinct(\"userAgent\").alias(\"agents\"),\n",
    "    F.countDistinct(\"location\").alias(\"location\"),\n",
    "    F.countDistinct(\"song\").alias('songcount'),\n",
    ")\n",
    "df_features.head()"
   ]
  },
  {
   "cell_type": "code",
   "execution_count": 22,
   "metadata": {},
   "outputs": [
    {
     "data": {
      "text/html": [
       "<div>\n",
       "<style scoped>\n",
       "    .dataframe tbody tr th:only-of-type {\n",
       "        vertical-align: middle;\n",
       "    }\n",
       "\n",
       "    .dataframe tbody tr th {\n",
       "        vertical-align: top;\n",
       "    }\n",
       "\n",
       "    .dataframe thead th {\n",
       "        text-align: right;\n",
       "    }\n",
       "</style>\n",
       "<table border=\"1\" class=\"dataframe\">\n",
       "  <thead>\n",
       "    <tr style=\"text-align: right;\">\n",
       "      <th></th>\n",
       "      <th>userId</th>\n",
       "      <th>churn</th>\n",
       "      <th>male</th>\n",
       "      <th>last_is_paid</th>\n",
       "      <th>upgrade</th>\n",
       "      <th>downgrade</th>\n",
       "      <th>thumbsup</th>\n",
       "      <th>thumbsdown</th>\n",
       "      <th>error</th>\n",
       "      <th>help</th>\n",
       "      <th>friend</th>\n",
       "      <th>playlist</th>\n",
       "      <th>lifetime</th>\n",
       "      <th>songlength</th>\n",
       "      <th>avgItemInSession</th>\n",
       "      <th>artist</th>\n",
       "      <th>session</th>\n",
       "      <th>agents</th>\n",
       "      <th>location</th>\n",
       "      <th>songcount</th>\n",
       "    </tr>\n",
       "  </thead>\n",
       "  <tbody>\n",
       "    <tr>\n",
       "      <th>0</th>\n",
       "      <td>100010</td>\n",
       "      <td>1</td>\n",
       "      <td>0</td>\n",
       "      <td>0</td>\n",
       "      <td>0</td>\n",
       "      <td>0</td>\n",
       "      <td>4</td>\n",
       "      <td>3</td>\n",
       "      <td>0</td>\n",
       "      <td>0</td>\n",
       "      <td>0</td>\n",
       "      <td>1</td>\n",
       "      <td>14.328449</td>\n",
       "      <td>269.489070</td>\n",
       "      <td>33.839416</td>\n",
       "      <td>94</td>\n",
       "      <td>2</td>\n",
       "      <td>1</td>\n",
       "      <td>1</td>\n",
       "      <td>96</td>\n",
       "    </tr>\n",
       "    <tr>\n",
       "      <th>1</th>\n",
       "      <td>200002</td>\n",
       "      <td>1</td>\n",
       "      <td>1</td>\n",
       "      <td>1</td>\n",
       "      <td>1</td>\n",
       "      <td>0</td>\n",
       "      <td>15</td>\n",
       "      <td>5</td>\n",
       "      <td>0</td>\n",
       "      <td>1</td>\n",
       "      <td>0</td>\n",
       "      <td>6</td>\n",
       "      <td>53.323148</td>\n",
       "      <td>253.857506</td>\n",
       "      <td>54.832911</td>\n",
       "      <td>287</td>\n",
       "      <td>5</td>\n",
       "      <td>1</td>\n",
       "      <td>1</td>\n",
       "      <td>306</td>\n",
       "    </tr>\n",
       "    <tr>\n",
       "      <th>2</th>\n",
       "      <td>296</td>\n",
       "      <td>1</td>\n",
       "      <td>0</td>\n",
       "      <td>1</td>\n",
       "      <td>1</td>\n",
       "      <td>0</td>\n",
       "      <td>8</td>\n",
       "      <td>0</td>\n",
       "      <td>0</td>\n",
       "      <td>2</td>\n",
       "      <td>0</td>\n",
       "      <td>3</td>\n",
       "      <td>26.638264</td>\n",
       "      <td>252.804911</td>\n",
       "      <td>27.644737</td>\n",
       "      <td>108</td>\n",
       "      <td>5</td>\n",
       "      <td>1</td>\n",
       "      <td>1</td>\n",
       "      <td>109</td>\n",
       "    </tr>\n",
       "    <tr>\n",
       "      <th>3</th>\n",
       "      <td>125</td>\n",
       "      <td>0</td>\n",
       "      <td>1</td>\n",
       "      <td>0</td>\n",
       "      <td>0</td>\n",
       "      <td>0</td>\n",
       "      <td>3</td>\n",
       "      <td>1</td>\n",
       "      <td>0</td>\n",
       "      <td>2</td>\n",
       "      <td>0</td>\n",
       "      <td>2</td>\n",
       "      <td>105.422118</td>\n",
       "      <td>255.060824</td>\n",
       "      <td>27.297619</td>\n",
       "      <td>61</td>\n",
       "      <td>3</td>\n",
       "      <td>1</td>\n",
       "      <td>1</td>\n",
       "      <td>62</td>\n",
       "    </tr>\n",
       "    <tr>\n",
       "      <th>4</th>\n",
       "      <td>124</td>\n",
       "      <td>1</td>\n",
       "      <td>0</td>\n",
       "      <td>1</td>\n",
       "      <td>0</td>\n",
       "      <td>0</td>\n",
       "      <td>102</td>\n",
       "      <td>15</td>\n",
       "      <td>0</td>\n",
       "      <td>10</td>\n",
       "      <td>0</td>\n",
       "      <td>45</td>\n",
       "      <td>112.553796</td>\n",
       "      <td>250.089836</td>\n",
       "      <td>126.100649</td>\n",
       "      <td>1240</td>\n",
       "      <td>17</td>\n",
       "      <td>1</td>\n",
       "      <td>1</td>\n",
       "      <td>1611</td>\n",
       "    </tr>\n",
       "    <tr>\n",
       "      <th>...</th>\n",
       "      <td>...</td>\n",
       "      <td>...</td>\n",
       "      <td>...</td>\n",
       "      <td>...</td>\n",
       "      <td>...</td>\n",
       "      <td>...</td>\n",
       "      <td>...</td>\n",
       "      <td>...</td>\n",
       "      <td>...</td>\n",
       "      <td>...</td>\n",
       "      <td>...</td>\n",
       "      <td>...</td>\n",
       "      <td>...</td>\n",
       "      <td>...</td>\n",
       "      <td>...</td>\n",
       "      <td>...</td>\n",
       "      <td>...</td>\n",
       "      <td>...</td>\n",
       "      <td>...</td>\n",
       "      <td>...</td>\n",
       "    </tr>\n",
       "    <tr>\n",
       "      <th>443</th>\n",
       "      <td>216</td>\n",
       "      <td>0</td>\n",
       "      <td>0</td>\n",
       "      <td>0</td>\n",
       "      <td>1</td>\n",
       "      <td>1</td>\n",
       "      <td>80</td>\n",
       "      <td>15</td>\n",
       "      <td>2</td>\n",
       "      <td>12</td>\n",
       "      <td>0</td>\n",
       "      <td>52</td>\n",
       "      <td>115.490197</td>\n",
       "      <td>251.531113</td>\n",
       "      <td>82.172211</td>\n",
       "      <td>1204</td>\n",
       "      <td>20</td>\n",
       "      <td>1</td>\n",
       "      <td>1</td>\n",
       "      <td>1537</td>\n",
       "    </tr>\n",
       "    <tr>\n",
       "      <th>444</th>\n",
       "      <td>119</td>\n",
       "      <td>0</td>\n",
       "      <td>0</td>\n",
       "      <td>0</td>\n",
       "      <td>0</td>\n",
       "      <td>0</td>\n",
       "      <td>12</td>\n",
       "      <td>4</td>\n",
       "      <td>0</td>\n",
       "      <td>2</td>\n",
       "      <td>0</td>\n",
       "      <td>17</td>\n",
       "      <td>192.793310</td>\n",
       "      <td>249.802732</td>\n",
       "      <td>41.702186</td>\n",
       "      <td>250</td>\n",
       "      <td>8</td>\n",
       "      <td>1</td>\n",
       "      <td>1</td>\n",
       "      <td>269</td>\n",
       "    </tr>\n",
       "    <tr>\n",
       "      <th>445</th>\n",
       "      <td>100001</td>\n",
       "      <td>1</td>\n",
       "      <td>0</td>\n",
       "      <td>0</td>\n",
       "      <td>0</td>\n",
       "      <td>0</td>\n",
       "      <td>5</td>\n",
       "      <td>1</td>\n",
       "      <td>0</td>\n",
       "      <td>1</td>\n",
       "      <td>0</td>\n",
       "      <td>3</td>\n",
       "      <td>44.726771</td>\n",
       "      <td>247.868118</td>\n",
       "      <td>27.902985</td>\n",
       "      <td>93</td>\n",
       "      <td>3</td>\n",
       "      <td>1</td>\n",
       "      <td>1</td>\n",
       "      <td>96</td>\n",
       "    </tr>\n",
       "    <tr>\n",
       "      <th>446</th>\n",
       "      <td>300029</td>\n",
       "      <td>0</td>\n",
       "      <td>1</td>\n",
       "      <td>1</td>\n",
       "      <td>1</td>\n",
       "      <td>0</td>\n",
       "      <td>39</td>\n",
       "      <td>3</td>\n",
       "      <td>0</td>\n",
       "      <td>0</td>\n",
       "      <td>0</td>\n",
       "      <td>13</td>\n",
       "      <td>65.667604</td>\n",
       "      <td>248.718972</td>\n",
       "      <td>53.845316</td>\n",
       "      <td>314</td>\n",
       "      <td>7</td>\n",
       "      <td>1</td>\n",
       "      <td>1</td>\n",
       "      <td>342</td>\n",
       "    </tr>\n",
       "    <tr>\n",
       "      <th>447</th>\n",
       "      <td>200049</td>\n",
       "      <td>0</td>\n",
       "      <td>1</td>\n",
       "      <td>0</td>\n",
       "      <td>0</td>\n",
       "      <td>0</td>\n",
       "      <td>3</td>\n",
       "      <td>3</td>\n",
       "      <td>0</td>\n",
       "      <td>0</td>\n",
       "      <td>0</td>\n",
       "      <td>0</td>\n",
       "      <td>111.683796</td>\n",
       "      <td>297.315214</td>\n",
       "      <td>10.485714</td>\n",
       "      <td>26</td>\n",
       "      <td>3</td>\n",
       "      <td>1</td>\n",
       "      <td>1</td>\n",
       "      <td>26</td>\n",
       "    </tr>\n",
       "  </tbody>\n",
       "</table>\n",
       "<p>448 rows × 20 columns</p>\n",
       "</div>"
      ],
      "text/plain": [
       "     userId  churn  male  last_is_paid  upgrade  downgrade  thumbsup  \\\n",
       "0    100010      1     0             0        0          0         4   \n",
       "1    200002      1     1             1        1          0        15   \n",
       "2       296      1     0             1        1          0         8   \n",
       "3       125      0     1             0        0          0         3   \n",
       "4       124      1     0             1        0          0       102   \n",
       "..      ...    ...   ...           ...      ...        ...       ...   \n",
       "443     216      0     0             0        1          1        80   \n",
       "444     119      0     0             0        0          0        12   \n",
       "445  100001      1     0             0        0          0         5   \n",
       "446  300029      0     1             1        1          0        39   \n",
       "447  200049      0     1             0        0          0         3   \n",
       "\n",
       "     thumbsdown  error  help  friend  playlist    lifetime  songlength  \\\n",
       "0             3      0     0       0         1   14.328449  269.489070   \n",
       "1             5      0     1       0         6   53.323148  253.857506   \n",
       "2             0      0     2       0         3   26.638264  252.804911   \n",
       "3             1      0     2       0         2  105.422118  255.060824   \n",
       "4            15      0    10       0        45  112.553796  250.089836   \n",
       "..          ...    ...   ...     ...       ...         ...         ...   \n",
       "443          15      2    12       0        52  115.490197  251.531113   \n",
       "444           4      0     2       0        17  192.793310  249.802732   \n",
       "445           1      0     1       0         3   44.726771  247.868118   \n",
       "446           3      0     0       0        13   65.667604  248.718972   \n",
       "447           3      0     0       0         0  111.683796  297.315214   \n",
       "\n",
       "     avgItemInSession  artist  session  agents  location  songcount  \n",
       "0           33.839416      94        2       1         1         96  \n",
       "1           54.832911     287        5       1         1        306  \n",
       "2           27.644737     108        5       1         1        109  \n",
       "3           27.297619      61        3       1         1         62  \n",
       "4          126.100649    1240       17       1         1       1611  \n",
       "..                ...     ...      ...     ...       ...        ...  \n",
       "443         82.172211    1204       20       1         1       1537  \n",
       "444         41.702186     250        8       1         1        269  \n",
       "445         27.902985      93        3       1         1         96  \n",
       "446         53.845316     314        7       1         1        342  \n",
       "447         10.485714      26        3       1         1         26  \n",
       "\n",
       "[448 rows x 20 columns]"
      ]
     },
     "execution_count": 22,
     "metadata": {},
     "output_type": "execute_result"
    }
   ],
   "source": [
    "df_features.toPandas()"
   ]
  },
  {
   "cell_type": "markdown",
   "metadata": {},
   "source": [
    "# Modeling\n",
    "Split the full dataset into train, test, and validation sets. Test out several of the machine learning methods you learned. Evaluate the accuracy of the various models, tuning parameters as necessary. Determine your winning model based on test accuracy and report results on the validation set. Since the churned users are a fairly small subset, I suggest using F1 score as the metric to optimize."
   ]
  },
  {
   "cell_type": "markdown",
   "metadata": {},
   "source": [
    "### split data into train and test set"
   ]
  },
  {
   "cell_type": "code",
   "execution_count": 23,
   "metadata": {},
   "outputs": [],
   "source": [
    "train, test = df_features.randomSplit([0.8, 0.2], seed=42)"
   ]
  },
  {
   "cell_type": "code",
   "execution_count": 24,
   "metadata": {},
   "outputs": [
    {
     "name": "stdout",
     "output_type": "stream",
     "text": [
      "['male', 'last_is_paid', 'upgrade', 'downgrade', 'thumbsup', 'thumbsdown', 'error', 'help', 'friend', 'playlist', 'lifetime', 'songlength', 'avgItemInSession', 'artist', 'session', 'agents', 'location', 'songcount']\n"
     ]
    }
   ],
   "source": [
    "feature_columns = [ col for col in df_features.columns if col != 'churn' and col != 'userId']\n",
    "print (feature_columns)"
   ]
  },
  {
   "cell_type": "code",
   "execution_count": 25,
   "metadata": {},
   "outputs": [],
   "source": [
    "def build_model(classifier, params):\n",
    "    \"\"\"\n",
    "    build the pipeline to create the model\n",
    "    Args:\n",
    "        classifier : model used to classify\n",
    "        params     : params to be tuned\n",
    "    Returns:\n",
    "        pipeline for the process\n",
    "    \"\"\"\n",
    "    assembler = VectorAssembler(inputCols=['lifetime', 'songlength', 'avgItemInSession', 'artist',\n",
    "                                          'session', 'agents', 'location', 'songcount'], outputCol=\"numeric_features\")\n",
    "    scaler = StandardScaler(inputCol='numeric_features', outputCol='normalized_features', withMean=True, withStd=True)\n",
    "    feature_assembler = VectorAssembler(inputCols=['normalized_features', 'male', 'last_is_paid', 'upgrade', 'downgrade',\n",
    "                                                   'thumbsup', 'thumbsdown', 'error', 'help', 'friend', 'playlist'],\n",
    "                                        outputCol='features')\n",
    "    pipeline = Pipeline(stages = [ assembler, scaler, feature_assembler, classifier])\n",
    "    \n",
    "    model = CrossValidator(\n",
    "        estimator = pipeline,\n",
    "        estimatorParamMaps = params,\n",
    "        evaluator = MulticlassClassificationEvaluator(labelCol='churn', metricName='f1'),\n",
    "        numFolds=5,\n",
    "    )\n",
    "    return model"
   ]
  },
  {
   "cell_type": "code",
   "execution_count": 51,
   "metadata": {},
   "outputs": [],
   "source": [
    "### function to evaluate metrics\n",
    "def evaluate_model(predictions):\n",
    "    \"\"\"\n",
    "        returns the metrics for the predictions\n",
    "        Args:\n",
    "            predictions - predictions by the model\n",
    "        Returns:\n",
    "            accuracy - accuracy of the predictions\n",
    "            f1       - f1 metrics of the predictions\n",
    "            recall   - recall metrics of the predictions\n",
    "            precision - precision metrics of the predictions\n",
    "    \"\"\"\n",
    "    evaluator = MulticlassClassificationEvaluator(labelCol=\"churn\", predictionCol=\"prediction\", metricName=\"f1\")\n",
    "    accuracy = evaluator.evaluate(predictions, {evaluator.metricName: 'accuracy'})\n",
    "    f1 = evaluator.evaluate(predictions, {evaluator.metricName: 'f1'})\n",
    "    recall = evaluator.evaluate(predictions, {evaluator.metricName: 'weightedRecall'})\n",
    "    precision = evaluator.evaluate(predictions, {evaluator.metricName: 'weightedPrecision'})\n",
    "        \n",
    "    return accuracy, f1, recall, precision\n",
    "    "
   ]
  },
  {
   "cell_type": "code",
   "execution_count": null,
   "metadata": {},
   "outputs": [],
   "source": [
    "    binary_evaluator = BinaryClassificationEvaluator(labelCol=\"churn\")\n",
    "    auroc = binary_evaluator.evaluate(predictions, {binary_evaluator.metricName: 'areaUnderROC'})\n",
    "    pr_recall = binary_evaluator.evaluate(predictions, {binary_evaluator.metricName: 'areaUnderPR'})\n"
   ]
  },
  {
   "cell_type": "markdown",
   "metadata": {},
   "source": [
    "### logistic regression"
   ]
  },
  {
   "cell_type": "code",
   "execution_count": 27,
   "metadata": {},
   "outputs": [],
   "source": [
    "lr = LogisticRegression(featuresCol=\"features\", labelCol=\"churn\", maxIter=10)\n",
    "params = ParamGridBuilder().addGrid(lr.regParam,[0.3, 0.5, 0.8]) \\\n",
    "                           .addGrid(lr.elasticNetParam,[0.8, 1]) \\\n",
    "                           .build()\n",
    "lr_model = build_model(lr, params)"
   ]
  },
  {
   "cell_type": "code",
   "execution_count": 28,
   "metadata": {},
   "outputs": [],
   "source": [
    "lr_fit_model = lr_model.fit(train)"
   ]
  },
  {
   "cell_type": "code",
   "execution_count": 29,
   "metadata": {},
   "outputs": [],
   "source": [
    "lr_pred = lr_fit_model.transform(test)"
   ]
  },
  {
   "cell_type": "code",
   "execution_count": 52,
   "metadata": {},
   "outputs": [
    {
     "name": "stdout",
     "output_type": "stream",
     "text": [
      "Logistic Regression\n",
      "accuracy: 0.8604651162790697\n",
      "f1: 0.7959302325581394\n",
      "weighted recall: 0.8604651162790697\n",
      "weighted precision: 0.740400216333153\n"
     ]
    }
   ],
   "source": [
    "lr_accuracy, lr_f1, lr_recall, lr_precision = evaluate_model(lr_pred)\n",
    "print ('Logistic Regression')\n",
    "print ('accuracy: {}'.format(lr_accuracy))\n",
    "print ('f1: {}'.format(lr_f1))\n",
    "print ('weighted recall: {}'.format(lr_recall))\n",
    "print ('weighted precision: {}'.format(lr_precision))\n"
   ]
  },
  {
   "cell_type": "code",
   "execution_count": 55,
   "metadata": {},
   "outputs": [
    {
     "name": "stdout",
     "output_type": "stream",
     "text": [
      "Area Under ROC: 0.5, Precision-Recall: 0.13953488372093023\n"
     ]
    }
   ],
   "source": [
    "binary_evaluator = BinaryClassificationEvaluator(labelCol=\"churn\")\n",
    "auroc = binary_evaluator.evaluate(lr_pred, {binary_evaluator.metricName: 'areaUnderROC'})\n",
    "pr_recall = binary_evaluator.evaluate(lr_pred, {binary_evaluator.metricName: 'areaUnderPR'})\n",
    "\n",
    "print ('Area Under ROC: {}, Precision-Recall: {}'.format(auroc, pr_recall))"
   ]
  },
  {
   "cell_type": "markdown",
   "metadata": {},
   "source": [
    "### Random Forest"
   ]
  },
  {
   "cell_type": "code",
   "execution_count": 32,
   "metadata": {},
   "outputs": [],
   "source": [
    "rf = RandomForestClassifier(featuresCol=\"features\", labelCol=\"churn\")\n",
    "params = ParamGridBuilder().addGrid(rf.maxDepth, [2,5,10]) \\\n",
    "                           .addGrid(rf.numTrees, [5,20,50]) \\\n",
    "                           .addGrid(rf.maxBins, [5,10,20]) \\\n",
    "                           .build()\n",
    "rf_model = build_model(rf, params)"
   ]
  },
  {
   "cell_type": "code",
   "execution_count": 33,
   "metadata": {},
   "outputs": [],
   "source": [
    "rf_fit_model = rf_model.fit(train)\n",
    "rf_pred = rf_fit_model.transform(test)"
   ]
  },
  {
   "cell_type": "code",
   "execution_count": 53,
   "metadata": {},
   "outputs": [
    {
     "name": "stdout",
     "output_type": "stream",
     "text": [
      "Random Forest\n",
      "accuracy: 0.8604651162790697\n",
      "f1: 0.8483476132190944\n",
      "weighted recall: 0.8604651162790697\n",
      "weighted precision: 0.8419797257006559\n"
     ]
    }
   ],
   "source": [
    "rf_accuracy, rf_f1, rf_recall, rf_precision = evaluate_model(rf_pred)\n",
    "print ('Random Forest')\n",
    "print ('accuracy: {}'.format(rf_accuracy))\n",
    "print ('f1: {}'.format(rf_f1))\n",
    "print ('weighted recall: {}'.format(rf_recall))\n",
    "print ('weighted precision: {}'.format(rf_precision))"
   ]
  },
  {
   "cell_type": "code",
   "execution_count": 56,
   "metadata": {},
   "outputs": [
    {
     "name": "stdout",
     "output_type": "stream",
     "text": [
      "Area Under ROC: 0.6914414414414413, Precision-Recall: 0.4663619419580238\n"
     ]
    }
   ],
   "source": [
    "binary_evaluator = BinaryClassificationEvaluator(labelCol=\"churn\")\n",
    "auroc = binary_evaluator.evaluate(rf_pred, {binary_evaluator.metricName: 'areaUnderROC'})\n",
    "pr_recall = binary_evaluator.evaluate(rf_pred, {binary_evaluator.metricName: 'areaUnderPR'})\n",
    "\n",
    "print ('Area Under ROC: {}, Precision-Recall: {}'.format(auroc, pr_recall))"
   ]
  },
  {
   "cell_type": "markdown",
   "metadata": {},
   "source": [
    "### Gradient Boost"
   ]
  },
  {
   "cell_type": "code",
   "execution_count": 36,
   "metadata": {},
   "outputs": [],
   "source": [
    "gbt = GBTClassifier(featuresCol='features', labelCol='churn')\n",
    "params = ParamGridBuilder().addGrid(gbt.maxDepth, [2,5,10]) \\\n",
    "                           .addGrid(gbt.maxBins, [5,10,20]) \\\n",
    "                           .build()\n",
    "gbt_model = build_model(gbt, params)"
   ]
  },
  {
   "cell_type": "code",
   "execution_count": 37,
   "metadata": {},
   "outputs": [],
   "source": [
    "gbt_fit_model = gbt_model.fit(train)\n",
    "gbt_pred = gbt_fit_model.transform(test)"
   ]
  },
  {
   "cell_type": "code",
   "execution_count": 54,
   "metadata": {},
   "outputs": [
    {
     "name": "stdout",
     "output_type": "stream",
     "text": [
      "Gradient Boosting\n",
      "accuracy: 0.8953488372093024\n",
      "f1: 0.8832889336885303\n",
      "weighted recall: 0.8953488372093024\n",
      "weighted precision: 0.8838891458850247\n"
     ]
    }
   ],
   "source": [
    "gbt_accuracy, gbt_f1, gbt_recall, gbt_precision = evaluate_model(gbt_pred)\n",
    "print ('Gradient Boosting')\n",
    "print ('accuracy: {}'.format(gbt_accuracy))\n",
    "print ('f1: {}'.format(gbt_f1))\n",
    "print ('weighted recall: {}'.format(gbt_recall))\n",
    "print ('weighted precision: {}'.format(gbt_precision))\n"
   ]
  },
  {
   "cell_type": "code",
   "execution_count": 57,
   "metadata": {},
   "outputs": [
    {
     "name": "stdout",
     "output_type": "stream",
     "text": [
      "Area Under ROC: 0.6649774774774777, Precision-Recall: 0.49614258970259423\n"
     ]
    }
   ],
   "source": [
    "binary_evaluator = BinaryClassificationEvaluator(labelCol=\"churn\")\n",
    "auroc = binary_evaluator.evaluate(gbt_pred, {binary_evaluator.metricName: 'areaUnderROC'})\n",
    "pr_recall = binary_evaluator.evaluate(gbt_pred, {binary_evaluator.metricName: 'areaUnderPR'})\n",
    "\n",
    "print ('Area Under ROC: {}, Precision-Recall: {}'.format(auroc, pr_recall))"
   ]
  },
  {
   "cell_type": "markdown",
   "metadata": {},
   "source": [
    "## Feature Importances"
   ]
  },
  {
   "cell_type": "code",
   "execution_count": 92,
   "metadata": {},
   "outputs": [],
   "source": [
    "#show the importance features for tree based model\n",
    "def show_importances(feature_col, model):\n",
    "    \"\"\"\n",
    "    show the important features for tree based model\n",
    "    Args:\n",
    "         feature_col - feature column\n",
    "         model - model\n",
    "    Returns:\n",
    "         df - dataframe containing the features sorted by importances\n",
    "    \"\"\"\n",
    "    \n",
    "    df = pd.DataFrame({'feature' : ['lifetime', 'songlength', 'avgItemInSession', 'artist', 'session', 'agents', 'location', 'songcount',\n",
    "                                    'male', 'last_is_paid', 'upgrade', 'downgrade',\n",
    "                                    'thumbsup', 'thumbsdown', 'error', 'help', 'friend', 'playlist'],\n",
    "                       'importance' : model.bestModel.stages[3].featureImportances.toArray()\n",
    "                      })\n",
    "    df = df.sort_values(by='importance', ascending=False).reset_index(drop=True)\n",
    "    return df"
   ]
  },
  {
   "cell_type": "code",
   "execution_count": 95,
   "metadata": {},
   "outputs": [
    {
     "data": {
      "text/html": [
       "<div>\n",
       "<style scoped>\n",
       "    .dataframe tbody tr th:only-of-type {\n",
       "        vertical-align: middle;\n",
       "    }\n",
       "\n",
       "    .dataframe tbody tr th {\n",
       "        vertical-align: top;\n",
       "    }\n",
       "\n",
       "    .dataframe thead th {\n",
       "        text-align: right;\n",
       "    }\n",
       "</style>\n",
       "<table border=\"1\" class=\"dataframe\">\n",
       "  <thead>\n",
       "    <tr style=\"text-align: right;\">\n",
       "      <th></th>\n",
       "      <th>feature</th>\n",
       "      <th>importance</th>\n",
       "    </tr>\n",
       "  </thead>\n",
       "  <tbody>\n",
       "    <tr>\n",
       "      <th>0</th>\n",
       "      <td>thumbsup</td>\n",
       "      <td>0.202439</td>\n",
       "    </tr>\n",
       "    <tr>\n",
       "      <th>1</th>\n",
       "      <td>avgItemInSession</td>\n",
       "      <td>0.165014</td>\n",
       "    </tr>\n",
       "    <tr>\n",
       "      <th>2</th>\n",
       "      <td>playlist</td>\n",
       "      <td>0.145186</td>\n",
       "    </tr>\n",
       "    <tr>\n",
       "      <th>3</th>\n",
       "      <td>lifetime</td>\n",
       "      <td>0.102796</td>\n",
       "    </tr>\n",
       "    <tr>\n",
       "      <th>4</th>\n",
       "      <td>thumbsdown</td>\n",
       "      <td>0.080500</td>\n",
       "    </tr>\n",
       "    <tr>\n",
       "      <th>5</th>\n",
       "      <td>session</td>\n",
       "      <td>0.070074</td>\n",
       "    </tr>\n",
       "    <tr>\n",
       "      <th>6</th>\n",
       "      <td>help</td>\n",
       "      <td>0.063465</td>\n",
       "    </tr>\n",
       "    <tr>\n",
       "      <th>7</th>\n",
       "      <td>error</td>\n",
       "      <td>0.058656</td>\n",
       "    </tr>\n",
       "    <tr>\n",
       "      <th>8</th>\n",
       "      <td>last_is_paid</td>\n",
       "      <td>0.045247</td>\n",
       "    </tr>\n",
       "    <tr>\n",
       "      <th>9</th>\n",
       "      <td>songlength</td>\n",
       "      <td>0.031223</td>\n",
       "    </tr>\n",
       "    <tr>\n",
       "      <th>10</th>\n",
       "      <td>upgrade</td>\n",
       "      <td>0.028755</td>\n",
       "    </tr>\n",
       "    <tr>\n",
       "      <th>11</th>\n",
       "      <td>male</td>\n",
       "      <td>0.006645</td>\n",
       "    </tr>\n",
       "    <tr>\n",
       "      <th>12</th>\n",
       "      <td>agents</td>\n",
       "      <td>0.000000</td>\n",
       "    </tr>\n",
       "    <tr>\n",
       "      <th>13</th>\n",
       "      <td>location</td>\n",
       "      <td>0.000000</td>\n",
       "    </tr>\n",
       "    <tr>\n",
       "      <th>14</th>\n",
       "      <td>songcount</td>\n",
       "      <td>0.000000</td>\n",
       "    </tr>\n",
       "    <tr>\n",
       "      <th>15</th>\n",
       "      <td>downgrade</td>\n",
       "      <td>0.000000</td>\n",
       "    </tr>\n",
       "    <tr>\n",
       "      <th>16</th>\n",
       "      <td>artist</td>\n",
       "      <td>0.000000</td>\n",
       "    </tr>\n",
       "    <tr>\n",
       "      <th>17</th>\n",
       "      <td>friend</td>\n",
       "      <td>0.000000</td>\n",
       "    </tr>\n",
       "  </tbody>\n",
       "</table>\n",
       "</div>"
      ],
      "text/plain": [
       "             feature  importance\n",
       "0           thumbsup    0.202439\n",
       "1   avgItemInSession    0.165014\n",
       "2           playlist    0.145186\n",
       "3           lifetime    0.102796\n",
       "4         thumbsdown    0.080500\n",
       "5            session    0.070074\n",
       "6               help    0.063465\n",
       "7              error    0.058656\n",
       "8       last_is_paid    0.045247\n",
       "9         songlength    0.031223\n",
       "10           upgrade    0.028755\n",
       "11              male    0.006645\n",
       "12            agents    0.000000\n",
       "13          location    0.000000\n",
       "14         songcount    0.000000\n",
       "15         downgrade    0.000000\n",
       "16            artist    0.000000\n",
       "17            friend    0.000000"
      ]
     },
     "execution_count": 95,
     "metadata": {},
     "output_type": "execute_result"
    }
   ],
   "source": [
    "#Gradient Boosting\n",
    "importance_df = show_importances(feature_col, gbt_fit_model)\n",
    "importance_df"
   ]
  },
  {
   "cell_type": "code",
   "execution_count": 99,
   "metadata": {},
   "outputs": [
    {
     "data": {
      "text/plain": [
       "(array([ 0,  1,  2,  3,  4,  5,  6,  7,  8,  9, 10, 11, 12, 13, 14, 15, 16,\n",
       "        17]),\n",
       " <a list of 18 Text xticklabel objects>)"
      ]
     },
     "execution_count": 99,
     "metadata": {},
     "output_type": "execute_result"
    },
    {
     "data": {
      "image/png": "[encoded data removed]",
      "text/plain": [
       "<Figure size 1152x720 with 1 Axes>"
      ]
     },
     "metadata": {
      "needs_background": "light"
     },
     "output_type": "display_data"
    }
   ],
   "source": [
    "sns.barplot(x='feature', y='importance', data=importance_df)\n",
    "plt.title('Feature Importance')\n",
    "plt.xticks(rotation=60)"
   ]
  },
  {
   "cell_type": "markdown",
   "metadata": {},
   "source": [
    "# Final Steps\n",
    "Clean up your code, adding comments and renaming variables to make the code easier to read and maintain. Refer to the Spark Project Overview page and Data Scientist Capstone Project Rubric to make sure you are including all components of the capstone project and meet all expectations. Remember, this includes thorough documentation in a README file in a Github repository, as well as a web app or blog post."
   ]
  },
  {
   "cell_type": "markdown",
   "metadata": {},
   "source": [
    "### conclusion\n",
    "\n",
    "As our data is imbalance, the churn percentage is only 20% of the sample. F1 score will be a more appropriate metri than Accuracy or Area Under ROC metric. In fact, if we have a dummy model that always predict user will not cancel the service, it will achieve an accuracy of 80% which is not so bad, so looking at accuracy alone will not tell the whole story.\n",
    "\n",
    "Based on the F1 score for each model, Gradient Boosting will be the best model to predict the churn rate.\n"
   ]
  },
  {
   "cell_type": "code",
   "execution_count": null,
   "metadata": {},
   "outputs": [],
   "source": []
  }
 ],
 "metadata": {
  "kernelspec": {
   "display_name": "sparkify",
   "language": "python",
   "name": "sparkify"
  },
  "language_info": {
   "codemirror_mode": {
    "name": "ipython",
    "version": 3
   },
   "file_extension": ".py",
   "mimetype": "text/x-python",
   "name": "python",
   "nbconvert_exporter": "python",
   "pygments_lexer": "ipython3",
   "version": "3.7.7"
  }
 },
 "nbformat": 4,
 "nbformat_minor": 2
}
