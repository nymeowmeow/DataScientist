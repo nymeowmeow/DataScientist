{
 "cells": [
  {
   "cell_type": "markdown",
   "metadata": {},
   "source": [
    "# udacity, Data Science Blog Post"
   ]
  },
  {
   "cell_type": "markdown",
   "metadata": {},
   "source": [
    "## Data Source\n",
    "\n",
    "the data is taken from https://www.kaggle.com/mchirico/stack-overflow-developer-survey-results-2019\n",
    "\n",
    "Stack Overflow’s annual Developer Survey is a survey of people who code around the world. Which covers everything from developers’ favorite technologies to their job preferences."
   ]
  },
  {
   "cell_type": "markdown",
   "metadata": {},
   "source": [
    "## Data Exploration"
   ]
  },
  {
   "cell_type": "code",
   "execution_count": 1,
   "metadata": {},
   "outputs": [],
   "source": [
    "import pandas as pd\n",
    "import matplotlib.pyplot as plt\n",
    "import seaborn as sns"
   ]
  },
  {
   "cell_type": "code",
   "execution_count": 2,
   "metadata": {},
   "outputs": [
    {
     "name": "stdout",
     "output_type": "stream",
     "text": [
      "shape of data: (88883, 85)\n"
     ]
    },
    {
     "data": {
      "text/html": [
       "<div>\n",
       "<style scoped>\n",
       "    .dataframe tbody tr th:only-of-type {\n",
       "        vertical-align: middle;\n",
       "    }\n",
       "\n",
       "    .dataframe tbody tr th {\n",
       "        vertical-align: top;\n",
       "    }\n",
       "\n",
       "    .dataframe thead th {\n",
       "        text-align: right;\n",
       "    }\n",
       "</style>\n",
       "<table border=\"1\" class=\"dataframe\">\n",
       "  <thead>\n",
       "    <tr style=\"text-align: right;\">\n",
       "      <th></th>\n",
       "      <th>Respondent</th>\n",
       "      <th>MainBranch</th>\n",
       "      <th>Hobbyist</th>\n",
       "      <th>OpenSourcer</th>\n",
       "      <th>OpenSource</th>\n",
       "      <th>Employment</th>\n",
       "      <th>Country</th>\n",
       "      <th>Student</th>\n",
       "      <th>EdLevel</th>\n",
       "      <th>UndergradMajor</th>\n",
       "      <th>...</th>\n",
       "      <th>WelcomeChange</th>\n",
       "      <th>SONewContent</th>\n",
       "      <th>Age</th>\n",
       "      <th>Gender</th>\n",
       "      <th>Trans</th>\n",
       "      <th>Sexuality</th>\n",
       "      <th>Ethnicity</th>\n",
       "      <th>Dependents</th>\n",
       "      <th>SurveyLength</th>\n",
       "      <th>SurveyEase</th>\n",
       "    </tr>\n",
       "  </thead>\n",
       "  <tbody>\n",
       "    <tr>\n",
       "      <th>0</th>\n",
       "      <td>1</td>\n",
       "      <td>I am a student who is learning to code</td>\n",
       "      <td>Yes</td>\n",
       "      <td>Never</td>\n",
       "      <td>The quality of OSS and closed source software ...</td>\n",
       "      <td>Not employed, and not looking for work</td>\n",
       "      <td>United Kingdom</td>\n",
       "      <td>No</td>\n",
       "      <td>Primary/elementary school</td>\n",
       "      <td>NaN</td>\n",
       "      <td>...</td>\n",
       "      <td>Just as welcome now as I felt last year</td>\n",
       "      <td>Tech articles written by other developers;Indu...</td>\n",
       "      <td>14.0</td>\n",
       "      <td>Man</td>\n",
       "      <td>No</td>\n",
       "      <td>Straight / Heterosexual</td>\n",
       "      <td>NaN</td>\n",
       "      <td>No</td>\n",
       "      <td>Appropriate in length</td>\n",
       "      <td>Neither easy nor difficult</td>\n",
       "    </tr>\n",
       "    <tr>\n",
       "      <th>1</th>\n",
       "      <td>2</td>\n",
       "      <td>I am a student who is learning to code</td>\n",
       "      <td>No</td>\n",
       "      <td>Less than once per year</td>\n",
       "      <td>The quality of OSS and closed source software ...</td>\n",
       "      <td>Not employed, but looking for work</td>\n",
       "      <td>Bosnia and Herzegovina</td>\n",
       "      <td>Yes, full-time</td>\n",
       "      <td>Secondary school (e.g. American high school, G...</td>\n",
       "      <td>NaN</td>\n",
       "      <td>...</td>\n",
       "      <td>Just as welcome now as I felt last year</td>\n",
       "      <td>Tech articles written by other developers;Indu...</td>\n",
       "      <td>19.0</td>\n",
       "      <td>Man</td>\n",
       "      <td>No</td>\n",
       "      <td>Straight / Heterosexual</td>\n",
       "      <td>NaN</td>\n",
       "      <td>No</td>\n",
       "      <td>Appropriate in length</td>\n",
       "      <td>Neither easy nor difficult</td>\n",
       "    </tr>\n",
       "    <tr>\n",
       "      <th>2</th>\n",
       "      <td>3</td>\n",
       "      <td>I am not primarily a developer, but I write co...</td>\n",
       "      <td>Yes</td>\n",
       "      <td>Never</td>\n",
       "      <td>The quality of OSS and closed source software ...</td>\n",
       "      <td>Employed full-time</td>\n",
       "      <td>Thailand</td>\n",
       "      <td>No</td>\n",
       "      <td>Bachelor’s degree (BA, BS, B.Eng., etc.)</td>\n",
       "      <td>Web development or web design</td>\n",
       "      <td>...</td>\n",
       "      <td>Just as welcome now as I felt last year</td>\n",
       "      <td>Tech meetups or events in your area;Courses on...</td>\n",
       "      <td>28.0</td>\n",
       "      <td>Man</td>\n",
       "      <td>No</td>\n",
       "      <td>Straight / Heterosexual</td>\n",
       "      <td>NaN</td>\n",
       "      <td>Yes</td>\n",
       "      <td>Appropriate in length</td>\n",
       "      <td>Neither easy nor difficult</td>\n",
       "    </tr>\n",
       "    <tr>\n",
       "      <th>3</th>\n",
       "      <td>4</td>\n",
       "      <td>I am a developer by profession</td>\n",
       "      <td>No</td>\n",
       "      <td>Never</td>\n",
       "      <td>The quality of OSS and closed source software ...</td>\n",
       "      <td>Employed full-time</td>\n",
       "      <td>United States</td>\n",
       "      <td>No</td>\n",
       "      <td>Bachelor’s degree (BA, BS, B.Eng., etc.)</td>\n",
       "      <td>Computer science, computer engineering, or sof...</td>\n",
       "      <td>...</td>\n",
       "      <td>Just as welcome now as I felt last year</td>\n",
       "      <td>Tech articles written by other developers;Indu...</td>\n",
       "      <td>22.0</td>\n",
       "      <td>Man</td>\n",
       "      <td>No</td>\n",
       "      <td>Straight / Heterosexual</td>\n",
       "      <td>White or of European descent</td>\n",
       "      <td>No</td>\n",
       "      <td>Appropriate in length</td>\n",
       "      <td>Easy</td>\n",
       "    </tr>\n",
       "    <tr>\n",
       "      <th>4</th>\n",
       "      <td>5</td>\n",
       "      <td>I am a developer by profession</td>\n",
       "      <td>Yes</td>\n",
       "      <td>Once a month or more often</td>\n",
       "      <td>OSS is, on average, of HIGHER quality than pro...</td>\n",
       "      <td>Employed full-time</td>\n",
       "      <td>Ukraine</td>\n",
       "      <td>No</td>\n",
       "      <td>Bachelor’s degree (BA, BS, B.Eng., etc.)</td>\n",
       "      <td>Computer science, computer engineering, or sof...</td>\n",
       "      <td>...</td>\n",
       "      <td>Just as welcome now as I felt last year</td>\n",
       "      <td>Tech meetups or events in your area;Courses on...</td>\n",
       "      <td>30.0</td>\n",
       "      <td>Man</td>\n",
       "      <td>No</td>\n",
       "      <td>Straight / Heterosexual</td>\n",
       "      <td>White or of European descent;Multiracial</td>\n",
       "      <td>No</td>\n",
       "      <td>Appropriate in length</td>\n",
       "      <td>Easy</td>\n",
       "    </tr>\n",
       "  </tbody>\n",
       "</table>\n",
       "<p>5 rows × 85 columns</p>\n",
       "</div>"
      ],
      "text/plain": [
       "   Respondent                                         MainBranch Hobbyist  \\\n",
       "0           1             I am a student who is learning to code      Yes   \n",
       "1           2             I am a student who is learning to code       No   \n",
       "2           3  I am not primarily a developer, but I write co...      Yes   \n",
       "3           4                     I am a developer by profession       No   \n",
       "4           5                     I am a developer by profession      Yes   \n",
       "\n",
       "                  OpenSourcer  \\\n",
       "0                       Never   \n",
       "1     Less than once per year   \n",
       "2                       Never   \n",
       "3                       Never   \n",
       "4  Once a month or more often   \n",
       "\n",
       "                                          OpenSource  \\\n",
       "0  The quality of OSS and closed source software ...   \n",
       "1  The quality of OSS and closed source software ...   \n",
       "2  The quality of OSS and closed source software ...   \n",
       "3  The quality of OSS and closed source software ...   \n",
       "4  OSS is, on average, of HIGHER quality than pro...   \n",
       "\n",
       "                               Employment                 Country  \\\n",
       "0  Not employed, and not looking for work          United Kingdom   \n",
       "1      Not employed, but looking for work  Bosnia and Herzegovina   \n",
       "2                      Employed full-time                Thailand   \n",
       "3                      Employed full-time           United States   \n",
       "4                      Employed full-time                 Ukraine   \n",
       "\n",
       "          Student                                            EdLevel  \\\n",
       "0              No                          Primary/elementary school   \n",
       "1  Yes, full-time  Secondary school (e.g. American high school, G...   \n",
       "2              No           Bachelor’s degree (BA, BS, B.Eng., etc.)   \n",
       "3              No           Bachelor’s degree (BA, BS, B.Eng., etc.)   \n",
       "4              No           Bachelor’s degree (BA, BS, B.Eng., etc.)   \n",
       "\n",
       "                                      UndergradMajor  \\\n",
       "0                                                NaN   \n",
       "1                                                NaN   \n",
       "2                      Web development or web design   \n",
       "3  Computer science, computer engineering, or sof...   \n",
       "4  Computer science, computer engineering, or sof...   \n",
       "\n",
       "              ...                                        WelcomeChange  \\\n",
       "0             ...              Just as welcome now as I felt last year   \n",
       "1             ...              Just as welcome now as I felt last year   \n",
       "2             ...              Just as welcome now as I felt last year   \n",
       "3             ...              Just as welcome now as I felt last year   \n",
       "4             ...              Just as welcome now as I felt last year   \n",
       "\n",
       "                                        SONewContent   Age Gender Trans  \\\n",
       "0  Tech articles written by other developers;Indu...  14.0    Man    No   \n",
       "1  Tech articles written by other developers;Indu...  19.0    Man    No   \n",
       "2  Tech meetups or events in your area;Courses on...  28.0    Man    No   \n",
       "3  Tech articles written by other developers;Indu...  22.0    Man    No   \n",
       "4  Tech meetups or events in your area;Courses on...  30.0    Man    No   \n",
       "\n",
       "                 Sexuality                                 Ethnicity  \\\n",
       "0  Straight / Heterosexual                                       NaN   \n",
       "1  Straight / Heterosexual                                       NaN   \n",
       "2  Straight / Heterosexual                                       NaN   \n",
       "3  Straight / Heterosexual              White or of European descent   \n",
       "4  Straight / Heterosexual  White or of European descent;Multiracial   \n",
       "\n",
       "  Dependents           SurveyLength                  SurveyEase  \n",
       "0         No  Appropriate in length  Neither easy nor difficult  \n",
       "1         No  Appropriate in length  Neither easy nor difficult  \n",
       "2        Yes  Appropriate in length  Neither easy nor difficult  \n",
       "3         No  Appropriate in length                        Easy  \n",
       "4         No  Appropriate in length                        Easy  \n",
       "\n",
       "[5 rows x 85 columns]"
      ]
     },
     "execution_count": 2,
     "metadata": {},
     "output_type": "execute_result"
    }
   ],
   "source": [
    "df = pd.read_csv('survey_results_public.csv')\n",
    "print ('shape of data: {}'.format(df.shape))\n",
    "df.head()"
   ]
  },
  {
   "cell_type": "code",
   "execution_count": 3,
   "metadata": {},
   "outputs": [
    {
     "name": "stdout",
     "output_type": "stream",
     "text": [
      "0, Respondent : Randomized respondent ID number (not in order of survey response time)\n",
      "1, MainBranch : Which of the following options best describes you today? Here, by \"developer\" we mean \"someone who writes code.\"\n",
      "2, Hobbyist : Do you code as a hobby?\n",
      "3, OpenSourcer : How often do you contribute to open source?\n",
      "4, OpenSource : How do you feel about the quality of open source software (OSS)?\n",
      "5, Employment : Which of the following best describes your current employment status?\n",
      "6, Country : In which country do you currently reside?\n",
      "7, Student : Are you currently enrolled in a formal, degree-granting college or university program?\n",
      "8, EdLevel : Which of the following best describes the highest level of formal education that you’ve completed?\n",
      "9, UndergradMajor : What was your main or most important field of study?\n",
      "10, EduOther : Which of the following types of non-degree education have you used or participated in? Please select all that apply.\n",
      "11, OrgSize : Approximately how many people are employed by the company or organization you work for?\n",
      "12, DevType : Which of the following describe you? Please select all that apply.\n",
      "13, YearsCode : Including any education, how many years have you been coding?\n",
      "14, Age1stCode : At what age did you write your first line of code or program? (E.g., webpage, Hello World, Scratch project)\n",
      "15, YearsCodePro : How many years have you coded professionally (as a part of your work)?\n",
      "16, CareerSat : Overall, how satisfied are you with your career thus far?\n",
      "17, JobSat : How satisfied are you with your current job? (If you work multiple jobs, answer for the one you spend the most hours on.)\n",
      "18, MgrIdiot : How confident are you that your manager knows what they’re doing?\n",
      "19, MgrMoney : Do you believe that you need to be a manager to make more money?\n",
      "20, MgrWant : Do you want to become a manager yourself in the future?\n",
      "21, JobSeek : Which of the following best describes your current job-seeking status?\n",
      "22, LastHireDate : When was the last time that you took a job with a new employer?\n",
      "23, LastInt : In your most recent successful job interview (resulting in a job offer), you were asked to... (check all that apply)\n",
      "24, FizzBuzz : Have you ever been asked to solve FizzBuzz in an interview?\n",
      "25, JobFactors : Imagine that you are deciding between two job offers with the same compensation, benefits, and location. Of the following factors, which 3 are MOST important to you?\n",
      "26, ResumeUpdate : Think back to the last time you updated your resumé, CV, or an online profile on a job site. What is the PRIMARY reason that you did so?\n",
      "27, CurrencySymbol : Which currency do you use day-to-day? If your answer is complicated, please pick the one you're most comfortable estimating in.\n",
      "28, CurrencyDesc : Which currency do you use day-to-day? If your answer is complicated, please pick the one you're most comfortable estimating in.\n",
      "29, CompTotal : What is your current total compensation (salary, bonuses, and perks, before taxes and deductions), in `CurrencySymbol`? Please enter a whole number in the box below, without any punctuation. If you are paid hourly, please estimate an equivalent weekly, monthly, or yearly salary. If you prefer not to answer, please leave the box empty.\n",
      "30, CompFreq : Is that compensation weekly, monthly, or yearly?\n",
      "31, ConvertedComp : Salary converted to annual USD salaries using the exchange rate on 2019-02-01, assuming 12 working months and 50 working weeks.\n",
      "32, WorkWeekHrs : On average, how many hours per week do you work?\n",
      "33, WorkPlan : How structured or planned is your work?\n",
      "34, WorkChallenge : Of these options, what are your greatest challenges to productivity as a developer? Select up to 3:\n",
      "35, WorkRemote : How often do you work remotely?\n",
      "36, WorkLoc : Where would you prefer to work?\n",
      "37, ImpSyn : For the specific work you do, and the years of experience you have, how do you rate your own level of competence?\n",
      "38, CodeRev : Do you review code as part of your work?\n",
      "39, CodeRevHrs : On average, how many hours per week do you spend on code review?\n",
      "40, UnitTests : Does your company regularly employ unit tests in the development of their products?\n",
      "41, PurchaseHow : How does your company make decisions about purchasing new technology (cloud, AI, IoT, databases)?\n",
      "42, PurchaseWhat : What level of influence do you, personally, have over new technology purchases at your organization?\n",
      "43, LanguageWorkedWith : Which of the following programming, scripting, and markup languages have you done extensive development work in over the past year, and which do you want to work in over the next year?  (If you both worked with the language and want to continue to do so, please check both boxes in that row.)\n",
      "44, LanguageDesireNextYear : Which of the following programming, scripting, and markup languages have you done extensive development work in over the past year, and which do you want to work in over the next year?  (If you both worked with the language and want to continue to do so, please check both boxes in that row.)\n",
      "45, DatabaseWorkedWith : Which of the following database environments have you done extensive development work in over the past year, and which do you want to work in over the next year?   (If you both worked with the database and want to continue to do so, please check both boxes in that row.)\n",
      "46, DatabaseDesireNextYear : Which of the following database environments have you done extensive development work in over the past year, and which do you want to work in over the next year?   (If you both worked with the database and want to continue to do so, please check both boxes in that row.)\n",
      "47, PlatformWorkedWith : Which of the following platforms have you done extensive development work for over the past year?   (If you both developed for the platform and want to continue to do so, please check both boxes in that row.)\n",
      "48, PlatformDesireNextYear : Which of the following platforms have you done extensive development work for over the past year?   (If you both developed for the platform and want to continue to do so, please check both boxes in that row.)\n",
      "49, WebFrameWorkedWith : Which of the following web frameworks have you done extensive development work in over the past year, and which do you want to work in over the next year? (If you both worked with the framework and want to continue to do so, please check both boxes in that row.)\n",
      "50, WebFrameDesireNextYear : Which of the following web frameworks have you done extensive development work in over the past year, and which do you want to work in over the next year? (If you both worked with the framework and want to continue to do so, please check both boxes in that row.)\n",
      "51, MiscTechWorkedWith : Which of the following other frameworks, libraries, and tools have you done extensive development work in over the past year, and which do you want to work in over the next year? (If you both worked with the technology and want to continue to do so, please check both boxes in that row.)\n",
      "52, MiscTechDesireNextYear : Which of the following other frameworks, libraries, and tools have you done extensive development work in over the past year, and which do you want to work in over the next year? (If you both worked with the technology and want to continue to do so, please check both boxes in that row.)\n",
      "53, DevEnviron : Which development environment(s) do you use regularly?  Please check all that apply.\n",
      "54, OpSys : What is the primary operating system in which you work?\n",
      "55, Containers : How do you use containers (Docker, Open Container Initiative (OCI), etc.)?\n",
      "56, BlockchainOrg : How is your organization thinking about or implementing blockchain technology?\n",
      "57, BlockchainIs : Blockchain / cryptocurrency technology is primarily:\n",
      "58, BetterLife : Do you think people born today will have a better life than their parents?\n",
      "59, ITperson : Are you the \"IT support person\" for your family?\n",
      "60, OffOn : Have you tried turning it off and on again?\n",
      "61, SocialMedia : What social media site do you use the most?\n",
      "62, Extraversion : Do you prefer online chat or IRL conversations?\n",
      "63, ScreenName : What do you call it?\n",
      "64, SOVisit1st : To the best of your memory, when did you first visit Stack Overflow?\n",
      "65, SOVisitFreq : How frequently would you say you visit Stack Overflow?\n",
      "66, SOVisitTo : I visit Stack Overflow to... (check all that apply)\n",
      "67, SOFindAnswer : On average, how many times a week do you find (and use) an answer on Stack Overflow?\n",
      "68, SOTimeSaved : Think back to the last time you solved a coding problem using Stack Overflow, as well as the last time you solved a problem using a different resource. Which was faster?\n",
      "69, SOHowMuchTime : About how much time did you save? If you're not sure, please use your best estimate.\n",
      "70, SOAccount : Do you have a Stack Overflow account?\n",
      "71, SOPartFreq : How frequently would you say you participate in Q&A on Stack Overflow? By participate we mean ask, answer, vote for, or comment on questions.\n",
      "72, SOJobs : Have you ever used or visited Stack Overflow Jobs?\n",
      "73, EntTeams : Have you ever used Stack Overflow for Enterprise or Stack Overflow for Teams?\n",
      "74, SOComm : Do you consider yourself a member of the Stack Overflow community?\n",
      "75, WelcomeChange : Compared to last year, how welcome do you feel on Stack Overflow?\n",
      "76, SONewContent : Would you like to see any of the following on Stack Overflow? Check all that apply.\n",
      "77, Age : What is your age (in years)? If you prefer not to answer, you may leave this question blank.\n",
      "78, Gender : Which of the following do you currently identify as? Please select all that apply. If you prefer not to answer, you may leave this question blank.\n",
      "79, Trans : Do you identify as transgender?\n",
      "80, Sexuality : Which of the following do you currently identify as? Please select all that apply. If you prefer not to answer, you may leave this question blank.\n",
      "81, Ethnicity : Which of the following do you identify as? Please check all that apply. If you prefer not to answer, you may leave this question blank.\n",
      "82, Dependents : Do you have any dependents (e.g., children, elders, or others) that you care for?\n",
      "83, SurveyLength : How do you feel about the length of the survey this year?\n",
      "84, SurveyEase : How easy or difficult was this survey to complete?\n"
     ]
    }
   ],
   "source": [
    "schemaDf = pd.read_csv('survey_results_schema.csv')\n",
    "for i,row in schemaDf.iterrows():\n",
    "    print ('{}, {} : {}'.format(i, row['Column'], row['QuestionText']))"
   ]
  },
  {
   "cell_type": "code",
   "execution_count": 4,
   "metadata": {},
   "outputs": [
    {
     "data": {
      "text/plain": [
       "I am a developer by profession                                                   73.893770\n",
       "I am a student who is learning to code                                           11.463384\n",
       "I am not primarily a developer, but I write code sometimes as part of my work     8.481937\n",
       "I code primarily as a hobby                                                       3.757749\n",
       "I used to be a developer by profession, but no longer am                          1.782118\n",
       "Name: MainBranch, dtype: float64"
      ]
     },
     "execution_count": 4,
     "metadata": {},
     "output_type": "execute_result"
    }
   ],
   "source": [
    "# what is the unique value for mainbranch\n",
    "df['MainBranch'].value_counts()/len(df)*100"
   ]
  },
  {
   "cell_type": "code",
   "execution_count": 5,
   "metadata": {},
   "outputs": [
    {
     "data": {
      "text/plain": [
       "Employed full-time                                      72.499803\n",
       "Independent contractor, freelancer, or self-employed     9.575509\n",
       "Not employed, but looking for work                       6.300417\n",
       "Employed part-time                                       5.027958\n",
       "Not employed, and not looking for work                   4.278658\n",
       "Retired                                                  0.402777\n",
       "Name: Employment, dtype: float64"
      ]
     },
     "execution_count": 5,
     "metadata": {},
     "output_type": "execute_result"
    }
   ],
   "source": [
    "# what is the unique value for Employment\n",
    "df['Employment'].value_counts()/len(df)*100"
   ]
  },
  {
   "cell_type": "markdown",
   "metadata": {},
   "source": [
    "## Q1 Does the full time professional developer in the US, longer working hours means higher pay?"
   ]
  },
  {
   "cell_type": "markdown",
   "metadata": {},
   "source": [
    "### handle missing value by dropping them"
   ]
  },
  {
   "cell_type": "code",
   "execution_count": 50,
   "metadata": {},
   "outputs": [],
   "source": [
    "#create dataframe for country == united states, and drop rows that has missing value in any of\n",
    "#the 3 columns, WorkWeekHrs, MainBranch and ConvertedComp\n",
    "us_df = df[(df.Country == 'United States')][['WorkWeekHrs', 'MainBranch', 'ConvertedComp', 'Employment', 'YearsCodePro', 'LastHireDate']].dropna()\n"
   ]
  },
  {
   "cell_type": "code",
   "execution_count": 8,
   "metadata": {},
   "outputs": [],
   "source": [
    "us_developer_df = us_df[(us_df.MainBranch == 'I am a developer by profession') & (us_df.Employment == 'Employed full-time')]"
   ]
  },
  {
   "cell_type": "code",
   "execution_count": 9,
   "metadata": {},
   "outputs": [
    {
     "data": {
      "text/plain": [
       "count    12509.000000\n",
       "mean        42.209969\n",
       "std          6.828370\n",
       "min          1.000000\n",
       "25%         40.000000\n",
       "50%         40.000000\n",
       "75%         45.000000\n",
       "max        168.000000\n",
       "Name: WorkWeekHrs, dtype: float64"
      ]
     },
     "execution_count": 9,
     "metadata": {},
     "output_type": "execute_result"
    }
   ],
   "source": [
    "#check basic statistic for work week hrs\n",
    "us_developer_df['WorkWeekHrs'].describe()"
   ]
  },
  {
   "cell_type": "code",
   "execution_count": 45,
   "metadata": {},
   "outputs": [
    {
     "data": {
      "text/plain": [
       "count    1.250900e+04\n",
       "mean     2.554621e+05\n",
       "std      4.580911e+05\n",
       "min      0.000000e+00\n",
       "25%      8.200000e+04\n",
       "50%      1.140000e+05\n",
       "75%      1.600000e+05\n",
       "max      2.000000e+06\n",
       "Name: ConvertedComp, dtype: float64"
      ]
     },
     "execution_count": 45,
     "metadata": {},
     "output_type": "execute_result"
    }
   ],
   "source": [
    "us_developer_df['ConvertedComp'].describe()"
   ]
  },
  {
   "cell_type": "code",
   "execution_count": 51,
   "metadata": {},
   "outputs": [
    {
     "data": {
      "text/plain": [
       "(40.0, 114000.0)"
      ]
     },
     "execution_count": 51,
     "metadata": {},
     "output_type": "execute_result"
    }
   ],
   "source": [
    "us_developer_df['WorkWeekHrs'].median(), us_developer_df['ConvertedComp'].median()"
   ]
  },
  {
   "cell_type": "code",
   "execution_count": 46,
   "metadata": {},
   "outputs": [
    {
     "data": {
      "image/png": "[encoded data removed]",
      "text/plain": [
       "<Figure size 1080x432 with 2 Axes>"
      ]
     },
     "metadata": {
      "needs_background": "light"
     },
     "output_type": "display_data"
    }
   ],
   "source": [
    "# what is the distribution for workweekhrs and compensation\n",
    "fig, axes = plt.subplots(nrows=1, ncols=2, figsize=(15,6))\n",
    "\n",
    "us_developer_df.hist(column=\"WorkWeekHrs\", ax = axes[0], bins=50);\n",
    "axes[0].set_xlabel(\"Work Hrs/Week\",fontsize=15);\n",
    "axes[0].set_ylabel(\"Count\",fontsize=15);\n",
    "axes[0].set_title(\"WorkHrs/Week for US professional developer\");\n",
    "\n",
    "us_developer_df.hist(column=\"ConvertedComp\", ax = axes[1], bins=100);\n",
    "axes[1].set_xlabel(\"Yearly Salary in USD\",fontsize=15);\n",
    "axes[1].set_ylabel(\"Count\",fontsize=15);\n",
    "axes[1].set_title(\"Yearly Salary in USD for US professional developer\");"
   ]
  },
  {
   "cell_type": "code",
   "execution_count": 13,
   "metadata": {},
   "outputs": [
    {
     "data": {
      "text/html": [
       "<div>\n",
       "<style scoped>\n",
       "    .dataframe tbody tr th:only-of-type {\n",
       "        vertical-align: middle;\n",
       "    }\n",
       "\n",
       "    .dataframe tbody tr th {\n",
       "        vertical-align: top;\n",
       "    }\n",
       "\n",
       "    .dataframe thead th {\n",
       "        text-align: right;\n",
       "    }\n",
       "</style>\n",
       "<table border=\"1\" class=\"dataframe\">\n",
       "  <thead>\n",
       "    <tr style=\"text-align: right;\">\n",
       "      <th></th>\n",
       "      <th>WorkWeekHrs</th>\n",
       "      <th>ConvertedComp</th>\n",
       "    </tr>\n",
       "  </thead>\n",
       "  <tbody>\n",
       "    <tr>\n",
       "      <th>WorkWeekHrs</th>\n",
       "      <td>1.00000</td>\n",
       "      <td>0.04856</td>\n",
       "    </tr>\n",
       "    <tr>\n",
       "      <th>ConvertedComp</th>\n",
       "      <td>0.04856</td>\n",
       "      <td>1.00000</td>\n",
       "    </tr>\n",
       "  </tbody>\n",
       "</table>\n",
       "</div>"
      ],
      "text/plain": [
       "               WorkWeekHrs  ConvertedComp\n",
       "WorkWeekHrs        1.00000        0.04856\n",
       "ConvertedComp      0.04856        1.00000"
      ]
     },
     "execution_count": 13,
     "metadata": {},
     "output_type": "execute_result"
    }
   ],
   "source": [
    "us_developer_df.corr()"
   ]
  },
  {
   "cell_type": "code",
   "execution_count": 14,
   "metadata": {},
   "outputs": [
    {
     "data": {
      "text/plain": [
       "Text(0.5, 1.0, 'Work Hour/Week vs Yearly Salary in USD')"
      ]
     },
     "execution_count": 14,
     "metadata": {},
     "output_type": "execute_result"
    },
    {
     "data": {
      "image/png": "[encoded data removed]",
      "text/plain": [
       "<Figure size 432x288 with 1 Axes>"
      ]
     },
     "metadata": {
      "needs_background": "light"
     },
     "output_type": "display_data"
    }
   ],
   "source": [
    "plt.scatter(x = us_developer_df.WorkWeekHrs, y = us_developer_df.ConvertedComp)\n",
    "plt.xlabel('Work Hour/Week')\n",
    "plt.ylabel('Yearly Salary in USD')\n",
    "plt.title('Work Hour/Week vs Yearly Salary in USD')"
   ]
  },
  {
   "cell_type": "code",
   "execution_count": 15,
   "metadata": {},
   "outputs": [
    {
     "data": {
      "text/html": [
       "<div>\n",
       "<style scoped>\n",
       "    .dataframe tbody tr th:only-of-type {\n",
       "        vertical-align: middle;\n",
       "    }\n",
       "\n",
       "    .dataframe tbody tr th {\n",
       "        vertical-align: top;\n",
       "    }\n",
       "\n",
       "    .dataframe thead th {\n",
       "        text-align: right;\n",
       "    }\n",
       "</style>\n",
       "<table border=\"1\" class=\"dataframe\">\n",
       "  <thead>\n",
       "    <tr style=\"text-align: right;\">\n",
       "      <th></th>\n",
       "      <th>WorkWeekHrs</th>\n",
       "      <th>ConvertedComp</th>\n",
       "    </tr>\n",
       "  </thead>\n",
       "  <tbody>\n",
       "    <tr>\n",
       "      <th>count</th>\n",
       "      <td>954.000000</td>\n",
       "      <td>9.540000e+02</td>\n",
       "    </tr>\n",
       "    <tr>\n",
       "      <th>mean</th>\n",
       "      <td>43.034067</td>\n",
       "      <td>1.773872e+06</td>\n",
       "    </tr>\n",
       "    <tr>\n",
       "      <th>std</th>\n",
       "      <td>7.610373</td>\n",
       "      <td>3.351523e+05</td>\n",
       "    </tr>\n",
       "    <tr>\n",
       "      <th>min</th>\n",
       "      <td>2.000000</td>\n",
       "      <td>1.004808e+06</td>\n",
       "    </tr>\n",
       "    <tr>\n",
       "      <th>25%</th>\n",
       "      <td>40.000000</td>\n",
       "      <td>1.500000e+06</td>\n",
       "    </tr>\n",
       "    <tr>\n",
       "      <th>50%</th>\n",
       "      <td>40.000000</td>\n",
       "      <td>2.000000e+06</td>\n",
       "    </tr>\n",
       "    <tr>\n",
       "      <th>75%</th>\n",
       "      <td>45.000000</td>\n",
       "      <td>2.000000e+06</td>\n",
       "    </tr>\n",
       "    <tr>\n",
       "      <th>max</th>\n",
       "      <td>120.000000</td>\n",
       "      <td>2.000000e+06</td>\n",
       "    </tr>\n",
       "  </tbody>\n",
       "</table>\n",
       "</div>"
      ],
      "text/plain": [
       "       WorkWeekHrs  ConvertedComp\n",
       "count   954.000000   9.540000e+02\n",
       "mean     43.034067   1.773872e+06\n",
       "std       7.610373   3.351523e+05\n",
       "min       2.000000   1.004808e+06\n",
       "25%      40.000000   1.500000e+06\n",
       "50%      40.000000   2.000000e+06\n",
       "75%      45.000000   2.000000e+06\n",
       "max     120.000000   2.000000e+06"
      ]
     },
     "execution_count": 15,
     "metadata": {},
     "output_type": "execute_result"
    }
   ],
   "source": [
    "#what is the statistics for those highly compensated developer, defined as salary > 1000000\n",
    "highly_compensated_df = us_developer_df[us_developer_df['ConvertedComp'] > 1000000]\n",
    "highly_compensated_df.describe()"
   ]
  },
  {
   "cell_type": "code",
   "execution_count": 16,
   "metadata": {},
   "outputs": [
    {
     "data": {
      "text/html": [
       "<div>\n",
       "<style scoped>\n",
       "    .dataframe tbody tr th:only-of-type {\n",
       "        vertical-align: middle;\n",
       "    }\n",
       "\n",
       "    .dataframe tbody tr th {\n",
       "        vertical-align: top;\n",
       "    }\n",
       "\n",
       "    .dataframe thead th {\n",
       "        text-align: right;\n",
       "    }\n",
       "</style>\n",
       "<table border=\"1\" class=\"dataframe\">\n",
       "  <thead>\n",
       "    <tr style=\"text-align: right;\">\n",
       "      <th></th>\n",
       "      <th>WorkWeekHrs</th>\n",
       "      <th>ConvertedComp</th>\n",
       "    </tr>\n",
       "  </thead>\n",
       "  <tbody>\n",
       "    <tr>\n",
       "      <th>WorkWeekHrs</th>\n",
       "      <td>1.000000</td>\n",
       "      <td>-0.002411</td>\n",
       "    </tr>\n",
       "    <tr>\n",
       "      <th>ConvertedComp</th>\n",
       "      <td>-0.002411</td>\n",
       "      <td>1.000000</td>\n",
       "    </tr>\n",
       "  </tbody>\n",
       "</table>\n",
       "</div>"
      ],
      "text/plain": [
       "               WorkWeekHrs  ConvertedComp\n",
       "WorkWeekHrs       1.000000      -0.002411\n",
       "ConvertedComp    -0.002411       1.000000"
      ]
     },
     "execution_count": 16,
     "metadata": {},
     "output_type": "execute_result"
    }
   ],
   "source": [
    "highly_compensated_df.corr()"
   ]
  },
  {
   "cell_type": "code",
   "execution_count": 17,
   "metadata": {},
   "outputs": [
    {
     "data": {
      "text/plain": [
       "Text(0.5, 1.0, 'Work Hour/Week vs Yearly Salary in USD for highly compensated developer')"
      ]
     },
     "execution_count": 17,
     "metadata": {},
     "output_type": "execute_result"
    },
    {
     "data": {
      "image/png": "[encoded data removed]",
      "text/plain": [
       "<Figure size 432x288 with 1 Axes>"
      ]
     },
     "metadata": {
      "needs_background": "light"
     },
     "output_type": "display_data"
    }
   ],
   "source": [
    "plt.scatter(x = highly_compensated_df.WorkWeekHrs, y = highly_compensated_df.ConvertedComp)\n",
    "plt.xlabel('Work Hour/Week')\n",
    "plt.ylabel('Yearly Salary in USD')\n",
    "plt.title('Work Hour/Week vs Yearly Salary in USD for highly compensated developer')"
   ]
  },
  {
   "cell_type": "markdown",
   "metadata": {},
   "source": [
    "## the correlation between workweekhrs and yearly salary is only 0.05 which is very weak. Working long Hour doesn't mean higher salary for full time professional Developer, and for developer earning more than million dollar, the correlation is actually slightly negative"
   ]
  },
  {
   "cell_type": "markdown",
   "metadata": {},
   "source": [
    "## Q2. What is the relationship between working experience and working hour in the US? and does this translates to higher paid for more experienced developer?\n",
    "\n",
    "Is there a trend showing the work hour per week will increase and then decrease and finally go up again? as developer gain more experience, the responsibility should grow, and then need to spend more time on their work. but as they have other obligations (getting marry, raise kid), they can less afford to spend time on their work and expect the working hour to drop, and then as their kid grown up, they can spend more time with their work and the work hour will increase."
   ]
  },
  {
   "cell_type": "code",
   "execution_count": 18,
   "metadata": {},
   "outputs": [
    {
     "data": {
      "text/plain": [
       "array(['Less than 1 year', '8', '18', '1', '2', '14', '23', '20', '9',\n",
       "       '5', '10', '48', '4', '11', '12', '6', '3', '7', '15', '16', '22',\n",
       "       '19', '30', '33', '17', '21', '35', '37', '13', '28', '26', '27',\n",
       "       '25', '34', '24', '38', '29', '44', '36', '43', '32', '41', '39',\n",
       "       '42', '31', '50', '40', '45', '47', 'More than 50 years', '49'],\n",
       "      dtype=object)"
      ]
     },
     "execution_count": 18,
     "metadata": {},
     "output_type": "execute_result"
    }
   ],
   "source": [
    "#years coding profession statistics\n",
    "us_developer_df['YearsCodePro'].unique()"
   ]
  },
  {
   "cell_type": "code",
   "execution_count": 19,
   "metadata": {},
   "outputs": [
    {
     "name": "stderr",
     "output_type": "stream",
     "text": [
      "C:\\Anaconda\\envs\\py37\\lib\\site-packages\\ipykernel_launcher.py:12: SettingWithCopyWarning: \n",
      "A value is trying to be set on a copy of a slice from a DataFrame.\n",
      "Try using .loc[row_indexer,col_indexer] = value instead\n",
      "\n",
      "See the caveats in the documentation: http://pandas.pydata.org/pandas-docs/stable/indexing.html#indexing-view-versus-copy\n",
      "  if sys.path[0] == '':\n"
     ]
    }
   ],
   "source": [
    "def convert_to_year(year):\n",
    "    y = 1\n",
    "    if year == 'Less than 1 year':\n",
    "        y = 1\n",
    "    elif year == 'More than 50 years':\n",
    "        y = 50\n",
    "    else:\n",
    "        y = int(year)\n",
    "    return y\n",
    "\n",
    "#using years code professionally as a proxy to years of experience working professionally\n",
    "us_developer_df['experience'] = us_developer_df['YearsCodePro'].apply(convert_to_year)"
   ]
  },
  {
   "cell_type": "code",
   "execution_count": 20,
   "metadata": {},
   "outputs": [
    {
     "data": {
      "text/plain": [
       "<Figure size 1224x720 with 0 Axes>"
      ]
     },
     "metadata": {},
     "output_type": "display_data"
    },
    {
     "data": {
      "image/png": "[encoded data removed]",
      "text/plain": [
       "<Figure size 432x288 with 1 Axes>"
      ]
     },
     "metadata": {
      "needs_background": "light"
     },
     "output_type": "display_data"
    }
   ],
   "source": [
    "# what is the distribution for workweekhrs\n",
    "fig=plt.figure(figsize=(17,10));\n",
    "us_developer_df.hist(column=\"experience\", bins=50);\n",
    "plt.xlabel(\"Working Experience\",fontsize=15);\n",
    "plt.ylabel(\"Count\",fontsize=15);\n",
    "plt.title(\"Working Experience for US professional developer\");\n",
    "#it appears in us, majority of developer is under 10 years."
   ]
  },
  {
   "cell_type": "code",
   "execution_count": 44,
   "metadata": {},
   "outputs": [
    {
     "data": {
      "image/png": "[encoded data removed]",
      "text/plain": [
       "<Figure size 1080x432 with 2 Axes>"
      ]
     },
     "metadata": {
      "needs_background": "light"
     },
     "output_type": "display_data"
    }
   ],
   "source": [
    "working_hour_distribution = us_developer_df[['WorkWeekHrs', 'experience']].groupby('experience')['WorkWeekHrs'].mean()\n",
    "comp_distribution = us_developer_df[['ConvertedComp', 'experience']].groupby('experience')['ConvertedComp'].mean()\n",
    "\n",
    "fig, axes = plt.subplots(nrows=1, ncols=2, figsize=(15,6))\n",
    "axes[0].scatter(x = working_hour_distribution.index, y = working_hour_distribution.values)\n",
    "axes[0].set_xlabel('Experience')\n",
    "axes[0].set_ylabel('Mean Work Hour/Week')\n",
    "axes[0].set_title('working experience vs Mean Work Hour/week')\n",
    "axes[0].grid()\n",
    "\n",
    "axes[1].scatter(x = comp_distribution.index, y = comp_distribution.values)\n",
    "axes[1].set_xlabel('Experience')\n",
    "axes[1].set_ylabel('mean compensation')\n",
    "axes[1].set_title('working experience vs Mean compensation')\n",
    "axes[1].grid()\n",
    "\n",
    "fig.tight_layout()"
   ]
  },
  {
   "cell_type": "markdown",
   "metadata": {},
   "source": [
    "## it appears as developer becomes more experience , their work hour gradually increases, until around 40 years of experience then it suddenly join to higher value. However this doesn't translate to higher compensation.\n",
    "\n",
    "As developer gain more experience, one would expect their responsibility will grow, and need to spend more time on their work. this is consistent with the trend up until 25 years experience and then it seem to plateau. and then it drops slightly and start to jump to a much higher value after 40+ years experience.\n",
    "\n",
    "assuming on average, one will graduate around 20 years old, 40+ experience will mean the developer is around 60+ years old. And for those developer it seems the compensation seems to be trending downward for those with more than 25 years professionally coding experience."
   ]
  },
  {
   "cell_type": "markdown",
   "metadata": {},
   "source": [
    "## Q3, Is any relationship between years of experience coding professional and how long they will stay with their employer\n",
    "\n",
    "we can use lasthiredate as proxy to what time the developer switch job"
   ]
  },
  {
   "cell_type": "code",
   "execution_count": 27,
   "metadata": {},
   "outputs": [],
   "source": [
    "lasthire = us_developer_df"
   ]
  },
  {
   "cell_type": "code",
   "execution_count": 28,
   "metadata": {},
   "outputs": [],
   "source": [
    "#filter out I've never had a job , NA - I am an independent contractor or self employed\n",
    "lasthire = lasthire[~lasthire['LastHireDate'].isin([\"I've never had a job\", \"NA - I am an independent contractor or self employed\"])]"
   ]
  },
  {
   "cell_type": "code",
   "execution_count": 29,
   "metadata": {},
   "outputs": [
    {
     "data": {
      "text/plain": [
       "Less than a year ago     3849\n",
       "1-2 years ago            3381\n",
       "More than 4 years ago    3005\n",
       "3-4 years ago            2230\n",
       "Name: LastHireDate, dtype: int64"
      ]
     },
     "execution_count": 29,
     "metadata": {},
     "output_type": "execute_result"
    }
   ],
   "source": [
    "lasthire['LastHireDate'].value_counts()"
   ]
  },
  {
   "cell_type": "code",
   "execution_count": 30,
   "metadata": {},
   "outputs": [
    {
     "name": "stderr",
     "output_type": "stream",
     "text": [
      "C:\\Anaconda\\envs\\py37\\lib\\site-packages\\ipykernel_launcher.py:1: SettingWithCopyWarning: \n",
      "A value is trying to be set on a copy of a slice from a DataFrame.\n",
      "Try using .loc[row_indexer,col_indexer] = value instead\n",
      "\n",
      "See the caveats in the documentation: http://pandas.pydata.org/pandas-docs/stable/indexing.html#indexing-view-versus-copy\n",
      "  \"\"\"Entry point for launching an IPython kernel.\n"
     ]
    }
   ],
   "source": [
    "lasthire['experience'] = lasthire['YearsCodePro'].apply(convert_to_year)"
   ]
  },
  {
   "cell_type": "code",
   "execution_count": 33,
   "metadata": {},
   "outputs": [
    {
     "data": {
      "text/plain": [
       "LastHireDate\n",
       "Less than a year ago      6.869057\n",
       "1-2 years ago             7.580302\n",
       "3-4 years ago             9.469058\n",
       "More than 4 years ago    14.279534\n",
       "Name: experience, dtype: float64"
      ]
     },
     "execution_count": 33,
     "metadata": {},
     "output_type": "execute_result"
    }
   ],
   "source": [
    "meanhire = lasthire.groupby('LastHireDate')['experience'].mean()\n",
    "order = [ 'Less than a year ago', '1-2 years ago', '3-4 years ago', 'More than 4 years ago']\n",
    "meanhire.loc[order]"
   ]
  },
  {
   "cell_type": "code",
   "execution_count": 34,
   "metadata": {},
   "outputs": [
    {
     "data": {
      "text/plain": [
       "Text(0, 0.5, 'experience')"
      ]
     },
     "execution_count": 34,
     "metadata": {},
     "output_type": "execute_result"
    },
    {
     "data": {
      "image/png": "[encoded data removed]",
      "text/plain": [
       "<Figure size 432x288 with 1 Axes>"
      ]
     },
     "metadata": {
      "needs_background": "light"
     },
     "output_type": "display_data"
    }
   ],
   "source": [
    "meanhire.loc[order].plot(kind='bar')\n",
    "plt.title('experience vs LastHireDate')\n",
    "plt.ylabel('experience')"
   ]
  },
  {
   "cell_type": "code",
   "execution_count": null,
   "metadata": {},
   "outputs": [],
   "source": []
  }
 ],
 "metadata": {
  "kernelspec": {
   "display_name": "py37",
   "language": "python",
   "name": "py37"
  },
  "language_info": {
   "codemirror_mode": {
    "name": "ipython",
    "version": 3
   },
   "file_extension": ".py",
   "mimetype": "text/x-python",
   "name": "python",
   "nbconvert_exporter": "python",
   "pygments_lexer": "ipython3",
   "version": "3.5.6"
  }
 },
 "nbformat": 4,
 "nbformat_minor": 2
}
